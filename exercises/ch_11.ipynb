{
 "cells": [
  {
   "cell_type": "markdown",
   "metadata": {},
   "source": [
    "## 8. Deep Learning on CIFAR10"
   ]
  },
  {
   "cell_type": "markdown",
   "metadata": {},
   "source": [
    "### a.\n",
    "*Exercise: Build a DNN with 20 hidden layers of 100 neurons each (that's too many, but it's the point of this exercise). Use He initialization and the ELU activation function.*"
   ]
  },
  {
   "cell_type": "code",
   "execution_count": 1,
   "metadata": {},
   "outputs": [
    {
     "name": "stderr",
     "output_type": "stream",
     "text": [
      "2023-12-10 13:57:26.804759: I tensorflow/core/platform/cpu_feature_guard.cc:182] This TensorFlow binary is optimized to use available CPU instructions in performance-critical operations.\n",
      "To enable the following instructions: AVX2 FMA, in other operations, rebuild TensorFlow with the appropriate compiler flags.\n",
      "/Users/Adit/codes/ml_101/handson-ml2-master/ml_env/lib/python3.9/site-packages/urllib3/__init__.py:34: NotOpenSSLWarning: urllib3 v2 only supports OpenSSL 1.1.1+, currently the 'ssl' module is compiled with 'LibreSSL 2.8.3'. See: https://github.com/urllib3/urllib3/issues/3020\n",
      "  warnings.warn(\n"
     ]
    }
   ],
   "source": [
    "import tensorflow as tf\n",
    "from tensorflow import keras\n",
    "import numpy as np"
   ]
  },
  {
   "cell_type": "code",
   "execution_count": 2,
   "metadata": {},
   "outputs": [],
   "source": [
    "keras.backend.clear_session()\n",
    "tf.random.set_seed(42)\n",
    "np.random.seed(42)\n",
    "\n",
    "model = keras.models.Sequential()\n",
    "model.add(keras.layers.Flatten(input_shape=[32, 32, 3]))\n",
    "for _ in range(20):\n",
    "    model.add(keras.layers.Dense(100,\n",
    "                                 activation=\"elu\",\n",
    "                                 kernel_initializer=\"he_normal\"))"
   ]
  },
  {
   "cell_type": "markdown",
   "metadata": {},
   "source": [
    "### b.\n",
    "*Exercise: Using Nadam optimization and early stopping, train the network on the CIFAR10 dataset. You can load it with `keras.datasets.cifar10.load_data()`. The dataset is composed of 60,000 32 × 32–pixel color images (50,000 for training, 10,000 for testing) with 10 classes, so you'll need a softmax output layer with 10 neurons. Remember to search for the right learning rate each time you change the model's architecture or hyperparameters.*"
   ]
  },
  {
   "cell_type": "code",
   "execution_count": 3,
   "metadata": {},
   "outputs": [],
   "source": [
    "model.add(keras.layers.Dense(10, activation=\"softmax\"))"
   ]
  },
  {
   "cell_type": "markdown",
   "metadata": {},
   "source": [
    "Let's use a Nadam optimizer with a learning rate of 5e-5. I tried learning rates 1e-5, 3e-5, 1e-4, 3e-4, 1e-3, 3e-3 and 1e-2, and I compared their learning curves for 10 epochs each (using the TensorBoard callback, below). The learning rates 3e-5 and 1e-4 were pretty good, so I tried 5e-5, which turned out to be slightly better."
   ]
  },
  {
   "cell_type": "code",
   "execution_count": 18,
   "metadata": {},
   "outputs": [],
   "source": [
    "optimizer = keras.optimizers.Nadam(learning_rate=5e-5)\n",
    "model.compile(loss=\"sparse_categorical_crossentropy\",\n",
    "              optimizer=optimizer,\n",
    "              metrics=['accuracy'])"
   ]
  },
  {
   "cell_type": "markdown",
   "metadata": {},
   "source": [
    "Let's load the CIFAR10 dataset. We also want to use early stopping, so we need a validation set. Let's use the first 5,000 images of the original training set as the validation set:"
   ]
  },
  {
   "cell_type": "code",
   "execution_count": 19,
   "metadata": {},
   "outputs": [],
   "source": [
    "(X_train_full, y_train_full), (X_test, y_test) = keras.datasets.cifar10.load_data()\n",
    "\n",
    "X_train = X_train_full[5000:]\n",
    "y_train = y_train_full[5000:]\n",
    "X_valid = X_train_full[:5000]\n",
    "y_valid = y_train_full[:5000]"
   ]
  },
  {
   "cell_type": "markdown",
   "metadata": {},
   "source": [
    "Now we can create the callbacks we need and train the model:"
   ]
  },
  {
   "cell_type": "code",
   "execution_count": 20,
   "metadata": {},
   "outputs": [],
   "source": [
    "import os"
   ]
  },
  {
   "cell_type": "code",
   "execution_count": 21,
   "metadata": {},
   "outputs": [],
   "source": [
    "early_stopping_cb = keras.callbacks.EarlyStopping(patience=20)\n",
    "model_checkpoint_cb = keras.callbacks.ModelCheckpoint(\"my_cifar10_model.h5\", save_best_only=True)\n",
    "run_index = 1 # increment every time when we train the model\n",
    "run_logdir = os.path.join(os.curdir, \"my_cifar10_logs\", \"run_{:03d}\".format(run_index))\n",
    "tensorboard_cb = keras.callbacks.TensorBoard(run_logdir)\n",
    "callbacks = [early_stopping_cb, model_checkpoint_cb, tensorboard_cb]"
   ]
  },
  {
   "cell_type": "code",
   "execution_count": 22,
   "metadata": {},
   "outputs": [
    {
     "name": "stderr",
     "output_type": "stream",
     "text": [
      "UsageError: Line magic function `%tensorboard` not found.\n"
     ]
    }
   ],
   "source": [
    "%tensorboard --logdir=./my_cifar10_logs --port=6006"
   ]
  },
  {
   "cell_type": "code",
   "execution_count": 23,
   "metadata": {},
   "outputs": [
    {
     "name": "stdout",
     "output_type": "stream",
     "text": [
      "Epoch 1/100\n",
      "1407/1407 [==============================] - 20s 10ms/step - loss: 1.5682 - accuracy: 0.4366 - val_loss: 1.7614 - val_accuracy: 0.3766\n",
      "Epoch 2/100\n",
      "  12/1407 [..............................] - ETA: 13s - loss: 1.6323 - accuracy: 0.3828"
     ]
    },
    {
     "name": "stderr",
     "output_type": "stream",
     "text": [
      "/Users/Adit/codes/ml_101/handson-ml2-master/ml_env/lib/python3.9/site-packages/keras/src/engine/training.py:3103: UserWarning: You are saving your model as an HDF5 file via `model.save()`. This file format is considered legacy. We recommend using instead the native Keras format, e.g. `model.save('my_model.keras')`.\n",
      "  saving_api.save_model(\n"
     ]
    },
    {
     "name": "stdout",
     "output_type": "stream",
     "text": [
      "1407/1407 [==============================] - 13s 9ms/step - loss: 1.5457 - accuracy: 0.4427 - val_loss: 1.7883 - val_accuracy: 0.3772\n",
      "Epoch 3/100\n",
      "1407/1407 [==============================] - 13s 9ms/step - loss: 1.5321 - accuracy: 0.4489 - val_loss: 1.7436 - val_accuracy: 0.3952\n",
      "Epoch 4/100\n",
      "1407/1407 [==============================] - 13s 9ms/step - loss: 1.5142 - accuracy: 0.4554 - val_loss: 1.6745 - val_accuracy: 0.4138\n",
      "Epoch 5/100\n",
      "1407/1407 [==============================] - 13s 9ms/step - loss: 1.4938 - accuracy: 0.4630 - val_loss: 1.6120 - val_accuracy: 0.4264\n",
      "Epoch 6/100\n",
      "1407/1407 [==============================] - 13s 9ms/step - loss: 1.4805 - accuracy: 0.4696 - val_loss: 1.6112 - val_accuracy: 0.4376\n",
      "Epoch 7/100\n",
      "1407/1407 [==============================] - 13s 10ms/step - loss: 1.4632 - accuracy: 0.4758 - val_loss: 1.6487 - val_accuracy: 0.4210\n",
      "Epoch 8/100\n",
      "1407/1407 [==============================] - 13s 10ms/step - loss: 1.4489 - accuracy: 0.4808 - val_loss: 1.5295 - val_accuracy: 0.4600\n",
      "Epoch 9/100\n",
      "1407/1407 [==============================] - 14s 10ms/step - loss: 1.4366 - accuracy: 0.4841 - val_loss: 1.5373 - val_accuracy: 0.4552\n",
      "Epoch 10/100\n",
      "1407/1407 [==============================] - 13s 10ms/step - loss: 1.4185 - accuracy: 0.4904 - val_loss: 1.6077 - val_accuracy: 0.4350\n",
      "Epoch 11/100\n",
      "1407/1407 [==============================] - 14s 10ms/step - loss: 1.4082 - accuracy: 0.4949 - val_loss: 1.5564 - val_accuracy: 0.4486\n",
      "Epoch 12/100\n",
      "1407/1407 [==============================] - 14s 10ms/step - loss: 1.3900 - accuracy: 0.5007 - val_loss: 1.5988 - val_accuracy: 0.4396\n",
      "Epoch 13/100\n",
      "1407/1407 [==============================] - 14s 10ms/step - loss: 1.3778 - accuracy: 0.5016 - val_loss: 1.5428 - val_accuracy: 0.4574\n",
      "Epoch 14/100\n",
      "1407/1407 [==============================] - 14s 10ms/step - loss: 1.3657 - accuracy: 0.5075 - val_loss: 1.5089 - val_accuracy: 0.4706\n",
      "Epoch 15/100\n",
      "1407/1407 [==============================] - 14s 10ms/step - loss: 1.3557 - accuracy: 0.5121 - val_loss: 1.6231 - val_accuracy: 0.4392\n",
      "Epoch 16/100\n",
      "1407/1407 [==============================] - 14s 10ms/step - loss: 1.3433 - accuracy: 0.5166 - val_loss: 1.5393 - val_accuracy: 0.4624\n",
      "Epoch 17/100\n",
      "1407/1407 [==============================] - 14s 10ms/step - loss: 1.3341 - accuracy: 0.5179 - val_loss: 1.5496 - val_accuracy: 0.4580\n",
      "Epoch 18/100\n",
      "1407/1407 [==============================] - 14s 10ms/step - loss: 1.3193 - accuracy: 0.5258 - val_loss: 1.5235 - val_accuracy: 0.4626\n",
      "Epoch 19/100\n",
      "1407/1407 [==============================] - 14s 10ms/step - loss: 1.3042 - accuracy: 0.5300 - val_loss: 1.5471 - val_accuracy: 0.4606\n",
      "Epoch 20/100\n",
      "1407/1407 [==============================] - 14s 10ms/step - loss: 1.2956 - accuracy: 0.5343 - val_loss: 1.5370 - val_accuracy: 0.4608\n",
      "Epoch 21/100\n",
      "1407/1407 [==============================] - 14s 10ms/step - loss: 1.2877 - accuracy: 0.5368 - val_loss: 1.5399 - val_accuracy: 0.4702\n",
      "Epoch 22/100\n",
      "1407/1407 [==============================] - 15s 10ms/step - loss: 1.2751 - accuracy: 0.5419 - val_loss: 1.5149 - val_accuracy: 0.4788\n",
      "Epoch 23/100\n",
      "1407/1407 [==============================] - 14s 10ms/step - loss: 1.2700 - accuracy: 0.5446 - val_loss: 1.5528 - val_accuracy: 0.4578\n",
      "Epoch 24/100\n",
      "1407/1407 [==============================] - 14s 10ms/step - loss: 1.2551 - accuracy: 0.5497 - val_loss: 1.5119 - val_accuracy: 0.4736\n",
      "Epoch 25/100\n",
      "1407/1407 [==============================] - 14s 10ms/step - loss: 1.2454 - accuracy: 0.5526 - val_loss: 1.4978 - val_accuracy: 0.4788\n",
      "Epoch 26/100\n",
      "1407/1407 [==============================] - 14s 10ms/step - loss: 1.2341 - accuracy: 0.5562 - val_loss: 1.5159 - val_accuracy: 0.4756\n",
      "Epoch 27/100\n",
      "1407/1407 [==============================] - 15s 10ms/step - loss: 1.2242 - accuracy: 0.5602 - val_loss: 1.4958 - val_accuracy: 0.4790\n",
      "Epoch 28/100\n",
      "1407/1407 [==============================] - 15s 10ms/step - loss: 1.2156 - accuracy: 0.5635 - val_loss: 1.5931 - val_accuracy: 0.4534\n",
      "Epoch 29/100\n",
      "1407/1407 [==============================] - 15s 10ms/step - loss: 1.2103 - accuracy: 0.5646 - val_loss: 1.4958 - val_accuracy: 0.4836\n",
      "Epoch 30/100\n",
      "1407/1407 [==============================] - 16s 11ms/step - loss: 1.1983 - accuracy: 0.5694 - val_loss: 1.6365 - val_accuracy: 0.4558\n",
      "Epoch 31/100\n",
      "1407/1407 [==============================] - 15s 10ms/step - loss: 1.1909 - accuracy: 0.5729 - val_loss: 1.6163 - val_accuracy: 0.4552\n",
      "Epoch 32/100\n",
      "1407/1407 [==============================] - 15s 10ms/step - loss: 1.1816 - accuracy: 0.5748 - val_loss: 1.5030 - val_accuracy: 0.4794\n",
      "Epoch 33/100\n",
      "1407/1407 [==============================] - 16s 11ms/step - loss: 1.1708 - accuracy: 0.5796 - val_loss: 1.5539 - val_accuracy: 0.4696\n",
      "Epoch 34/100\n",
      "1407/1407 [==============================] - 15s 11ms/step - loss: 1.1623 - accuracy: 0.5813 - val_loss: 1.5725 - val_accuracy: 0.4780\n",
      "Epoch 35/100\n",
      "1407/1407 [==============================] - 15s 10ms/step - loss: 1.1542 - accuracy: 0.5862 - val_loss: 1.5291 - val_accuracy: 0.4814\n",
      "Epoch 36/100\n",
      "1407/1407 [==============================] - 15s 11ms/step - loss: 1.1476 - accuracy: 0.5883 - val_loss: 1.5205 - val_accuracy: 0.4768\n",
      "Epoch 37/100\n",
      "1407/1407 [==============================] - 15s 11ms/step - loss: 1.1368 - accuracy: 0.5911 - val_loss: 1.5158 - val_accuracy: 0.4874\n",
      "Epoch 38/100\n",
      "1407/1407 [==============================] - 15s 11ms/step - loss: 1.1296 - accuracy: 0.5941 - val_loss: 1.5230 - val_accuracy: 0.4824\n",
      "Epoch 39/100\n",
      "1407/1407 [==============================] - 15s 11ms/step - loss: 1.1226 - accuracy: 0.5963 - val_loss: 1.5434 - val_accuracy: 0.4796\n",
      "Epoch 40/100\n",
      "1407/1407 [==============================] - 16s 12ms/step - loss: 1.1128 - accuracy: 0.5983 - val_loss: 1.5352 - val_accuracy: 0.4850\n",
      "Epoch 41/100\n",
      "1407/1407 [==============================] - 17s 12ms/step - loss: 1.1098 - accuracy: 0.6028 - val_loss: 1.5105 - val_accuracy: 0.4880\n",
      "Epoch 42/100\n",
      "1407/1407 [==============================] - 18s 13ms/step - loss: 1.0987 - accuracy: 0.6041 - val_loss: 1.5320 - val_accuracy: 0.4846\n",
      "Epoch 43/100\n",
      "1407/1407 [==============================] - 16s 11ms/step - loss: 1.0929 - accuracy: 0.6058 - val_loss: 1.6112 - val_accuracy: 0.4646\n",
      "Epoch 44/100\n",
      "1407/1407 [==============================] - 16s 11ms/step - loss: 1.0833 - accuracy: 0.6112 - val_loss: 1.6336 - val_accuracy: 0.4680\n",
      "Epoch 45/100\n",
      "1407/1407 [==============================] - 16s 11ms/step - loss: 1.0758 - accuracy: 0.6126 - val_loss: 1.5590 - val_accuracy: 0.4892\n",
      "Epoch 46/100\n",
      "1407/1407 [==============================] - 16s 11ms/step - loss: 1.0680 - accuracy: 0.6147 - val_loss: 1.5484 - val_accuracy: 0.4900\n",
      "Epoch 47/100\n",
      "1407/1407 [==============================] - 16s 11ms/step - loss: 1.0619 - accuracy: 0.6188 - val_loss: 1.5734 - val_accuracy: 0.4902\n"
     ]
    },
    {
     "data": {
      "text/plain": [
       "<keras.src.callbacks.History at 0x12bf3cd00>"
      ]
     },
     "execution_count": 23,
     "metadata": {},
     "output_type": "execute_result"
    }
   ],
   "source": [
    "model.fit(X_train, y_train, epochs=100,\n",
    "          validation_data=(X_valid, y_valid),\n",
    "          callbacks=callbacks)"
   ]
  },
  {
   "cell_type": "code",
   "execution_count": 24,
   "metadata": {},
   "outputs": [
    {
     "name": "stdout",
     "output_type": "stream",
     "text": [
      "157/157 [==============================] - 1s 3ms/step - loss: 1.4958 - accuracy: 0.4790\n"
     ]
    },
    {
     "data": {
      "text/plain": [
       "[1.495756983757019, 0.4790000021457672]"
      ]
     },
     "execution_count": 24,
     "metadata": {},
     "output_type": "execute_result"
    }
   ],
   "source": [
    "model = keras.models.load_model(\"my_cifar10_model.h5\")\n",
    "model.evaluate(X_valid, y_valid)"
   ]
  },
  {
   "cell_type": "markdown",
   "metadata": {},
   "source": [
    "The model with the lowest validation loss gets about 47.6% accuracy on the validation set. It took 27 epochs to reach the lowest validation loss, with roughly 8 seconds per epoch on my laptop (without a GPU). Let's see if we can improve performance using Batch Normalization."
   ]
  },
  {
   "cell_type": "markdown",
   "metadata": {},
   "source": [
    "### c.\n",
    "*Exercise: Now try adding Batch Normalization and compare the learning curves: Is it converging faster than before? Does it produce a better model? How does it affect training speed?*"
   ]
  },
  {
   "cell_type": "markdown",
   "metadata": {},
   "source": [
    "The code below is very similar to the code above, with a few changes:\n",
    "\n",
    "* I added a BN layer after every Dense layer (before the activation function), except for the output layer. I also added a BN layer before the first hidden layer.\n",
    "* I changed the learning rate to 5e-4. I experimented with 1e-5, 3e-5, 5e-5, 1e-4, 3e-4, 5e-4, 1e-3 and 3e-3, and I chose the one with the best validation performance after 20 epochs.\n",
    "* I renamed the run directories to run_bn_* and the model file name to my_cifar10_bn_model.h5."
   ]
  },
  {
   "cell_type": "code",
   "execution_count": 25,
   "metadata": {},
   "outputs": [
    {
     "name": "stdout",
     "output_type": "stream",
     "text": [
      "Epoch 1/100\n",
      "1406/1407 [============================>.] - ETA: 0s - loss: 1.8377 - accuracy: 0.3408"
     ]
    },
    {
     "name": "stderr",
     "output_type": "stream",
     "text": [
      "/Users/Adit/codes/ml_101/handson-ml2-master/ml_env/lib/python3.9/site-packages/keras/src/engine/training.py:3103: UserWarning: You are saving your model as an HDF5 file via `model.save()`. This file format is considered legacy. We recommend using instead the native Keras format, e.g. `model.save('my_model.keras')`.\n",
      "  saving_api.save_model(\n"
     ]
    },
    {
     "name": "stdout",
     "output_type": "stream",
     "text": [
      "1407/1407 [==============================] - 39s 17ms/step - loss: 1.8377 - accuracy: 0.3408 - val_loss: 1.6608 - val_accuracy: 0.4044\n",
      "Epoch 2/100\n",
      "1407/1407 [==============================] - 24s 17ms/step - loss: 1.6691 - accuracy: 0.4023 - val_loss: 1.5613 - val_accuracy: 0.4414\n",
      "Epoch 3/100\n",
      "1407/1407 [==============================] - 23s 17ms/step - loss: 1.5984 - accuracy: 0.4330 - val_loss: 1.5350 - val_accuracy: 0.4504\n",
      "Epoch 4/100\n",
      "1407/1407 [==============================] - 24s 17ms/step - loss: 1.5506 - accuracy: 0.4509 - val_loss: 1.5057 - val_accuracy: 0.4702\n",
      "Epoch 5/100\n",
      "1407/1407 [==============================] - 24s 17ms/step - loss: 1.5077 - accuracy: 0.4654 - val_loss: 1.4454 - val_accuracy: 0.4942\n",
      "Epoch 6/100\n",
      "1407/1407 [==============================] - 24s 17ms/step - loss: 1.4737 - accuracy: 0.4781 - val_loss: 1.4214 - val_accuracy: 0.4968\n",
      "Epoch 7/100\n",
      "1407/1407 [==============================] - 26s 19ms/step - loss: 1.4372 - accuracy: 0.4913 - val_loss: 1.4253 - val_accuracy: 0.4940\n",
      "Epoch 8/100\n",
      "1407/1407 [==============================] - 27s 19ms/step - loss: 1.4104 - accuracy: 0.5022 - val_loss: 1.3836 - val_accuracy: 0.5134\n",
      "Epoch 9/100\n",
      "1407/1407 [==============================] - 24s 17ms/step - loss: 1.3848 - accuracy: 0.5107 - val_loss: 1.3879 - val_accuracy: 0.5094\n",
      "Epoch 10/100\n",
      "1407/1407 [==============================] - 27s 19ms/step - loss: 1.3603 - accuracy: 0.5200 - val_loss: 1.3463 - val_accuracy: 0.5216\n",
      "Epoch 11/100\n",
      "1407/1407 [==============================] - 26s 18ms/step - loss: 1.3416 - accuracy: 0.5259 - val_loss: 1.3550 - val_accuracy: 0.5202\n",
      "Epoch 12/100\n",
      "1407/1407 [==============================] - 25s 18ms/step - loss: 1.3179 - accuracy: 0.5348 - val_loss: 1.3820 - val_accuracy: 0.5078\n",
      "Epoch 13/100\n",
      "1407/1407 [==============================] - 27s 19ms/step - loss: 1.2957 - accuracy: 0.5415 - val_loss: 1.3606 - val_accuracy: 0.5164\n",
      "Epoch 14/100\n",
      "1407/1407 [==============================] - 26s 18ms/step - loss: 1.2790 - accuracy: 0.5496 - val_loss: 1.3504 - val_accuracy: 0.5276\n",
      "Epoch 15/100\n",
      "1407/1407 [==============================] - 27s 19ms/step - loss: 1.2571 - accuracy: 0.5569 - val_loss: 1.3767 - val_accuracy: 0.5212\n",
      "Epoch 16/100\n",
      "1407/1407 [==============================] - 30s 21ms/step - loss: 1.2524 - accuracy: 0.5576 - val_loss: 1.3635 - val_accuracy: 0.5278\n",
      "Epoch 17/100\n",
      "1407/1407 [==============================] - 32s 23ms/step - loss: 1.2303 - accuracy: 0.5656 - val_loss: 1.3494 - val_accuracy: 0.5328\n",
      "Epoch 18/100\n",
      "1407/1407 [==============================] - 33s 23ms/step - loss: 1.2141 - accuracy: 0.5733 - val_loss: 1.3524 - val_accuracy: 0.5290\n",
      "Epoch 19/100\n",
      "1407/1407 [==============================] - 28s 20ms/step - loss: 1.2007 - accuracy: 0.5774 - val_loss: 1.3294 - val_accuracy: 0.5378\n",
      "Epoch 20/100\n",
      "1407/1407 [==============================] - 29s 20ms/step - loss: 1.1863 - accuracy: 0.5803 - val_loss: 1.3669 - val_accuracy: 0.5312\n",
      "Epoch 21/100\n",
      "1407/1407 [==============================] - 27s 19ms/step - loss: 1.1732 - accuracy: 0.5878 - val_loss: 1.3515 - val_accuracy: 0.5334\n",
      "Epoch 22/100\n",
      "1407/1407 [==============================] - 27s 19ms/step - loss: 1.1583 - accuracy: 0.5900 - val_loss: 1.3548 - val_accuracy: 0.5256\n",
      "Epoch 23/100\n",
      "1407/1407 [==============================] - 29s 21ms/step - loss: 1.1468 - accuracy: 0.5958 - val_loss: 1.3431 - val_accuracy: 0.5386\n",
      "Epoch 24/100\n",
      "1407/1407 [==============================] - 28s 20ms/step - loss: 1.1336 - accuracy: 0.6012 - val_loss: 1.3107 - val_accuracy: 0.5506\n",
      "Epoch 25/100\n",
      "1407/1407 [==============================] - 28s 20ms/step - loss: 1.1237 - accuracy: 0.6070 - val_loss: 1.3559 - val_accuracy: 0.5378\n",
      "Epoch 26/100\n",
      "1407/1407 [==============================] - 28s 20ms/step - loss: 1.1094 - accuracy: 0.6099 - val_loss: 1.3437 - val_accuracy: 0.5318\n",
      "Epoch 27/100\n",
      "1407/1407 [==============================] - 32s 22ms/step - loss: 1.0994 - accuracy: 0.6125 - val_loss: 1.3464 - val_accuracy: 0.5372\n",
      "Epoch 28/100\n",
      "1407/1407 [==============================] - 28s 20ms/step - loss: 1.0914 - accuracy: 0.6158 - val_loss: 1.3529 - val_accuracy: 0.5422\n",
      "Epoch 29/100\n",
      "1407/1407 [==============================] - 28s 20ms/step - loss: 1.0796 - accuracy: 0.6220 - val_loss: 1.3465 - val_accuracy: 0.5366\n",
      "Epoch 30/100\n",
      "1407/1407 [==============================] - 28s 20ms/step - loss: 1.0674 - accuracy: 0.6261 - val_loss: 1.3546 - val_accuracy: 0.5372\n",
      "Epoch 31/100\n",
      "1407/1407 [==============================] - 29s 20ms/step - loss: 1.0545 - accuracy: 0.6306 - val_loss: 1.3646 - val_accuracy: 0.5404\n",
      "Epoch 32/100\n",
      "1407/1407 [==============================] - 28s 20ms/step - loss: 1.0455 - accuracy: 0.6348 - val_loss: 1.3613 - val_accuracy: 0.5398\n",
      "Epoch 33/100\n",
      "1407/1407 [==============================] - 28s 20ms/step - loss: 1.0312 - accuracy: 0.6346 - val_loss: 1.3661 - val_accuracy: 0.5434\n",
      "Epoch 34/100\n",
      "1407/1407 [==============================] - 28s 20ms/step - loss: 1.0301 - accuracy: 0.6387 - val_loss: 1.3425 - val_accuracy: 0.5484\n",
      "Epoch 35/100\n",
      "1407/1407 [==============================] - 29s 21ms/step - loss: 1.0164 - accuracy: 0.6426 - val_loss: 1.3657 - val_accuracy: 0.5422\n",
      "Epoch 36/100\n",
      "1407/1407 [==============================] - 30s 21ms/step - loss: 1.0141 - accuracy: 0.6456 - val_loss: 1.3540 - val_accuracy: 0.5388\n",
      "Epoch 37/100\n",
      "1407/1407 [==============================] - 29s 21ms/step - loss: 0.9969 - accuracy: 0.6490 - val_loss: 1.3843 - val_accuracy: 0.5342\n",
      "Epoch 38/100\n",
      "1407/1407 [==============================] - 37s 26ms/step - loss: 0.9929 - accuracy: 0.6518 - val_loss: 1.3604 - val_accuracy: 0.5350\n",
      "Epoch 39/100\n",
      "1407/1407 [==============================] - 32s 23ms/step - loss: 0.9809 - accuracy: 0.6533 - val_loss: 1.3465 - val_accuracy: 0.5506\n",
      "Epoch 40/100\n",
      "1407/1407 [==============================] - 44s 31ms/step - loss: 0.9706 - accuracy: 0.6606 - val_loss: 1.3874 - val_accuracy: 0.5364\n",
      "Epoch 41/100\n",
      "1407/1407 [==============================] - 30s 21ms/step - loss: 0.9623 - accuracy: 0.6626 - val_loss: 1.3655 - val_accuracy: 0.5470\n",
      "Epoch 42/100\n",
      "1407/1407 [==============================] - 30s 21ms/step - loss: 0.9540 - accuracy: 0.6645 - val_loss: 1.3620 - val_accuracy: 0.5416\n",
      "Epoch 43/100\n",
      "1407/1407 [==============================] - 30s 21ms/step - loss: 0.9513 - accuracy: 0.6648 - val_loss: 1.3777 - val_accuracy: 0.5438\n",
      "Epoch 44/100\n",
      "1407/1407 [==============================] - 46s 33ms/step - loss: 0.9411 - accuracy: 0.6687 - val_loss: 1.3900 - val_accuracy: 0.5410\n",
      "157/157 [==============================] - 1s 4ms/step - loss: 1.3107 - accuracy: 0.5506\n"
     ]
    },
    {
     "data": {
      "text/plain": [
       "[1.310655117034912, 0.550599992275238]"
      ]
     },
     "execution_count": 25,
     "metadata": {},
     "output_type": "execute_result"
    }
   ],
   "source": [
    "keras.backend.clear_session()\n",
    "tf.random.set_seed(42)\n",
    "np.random.seed(42)\n",
    "\n",
    "model = keras.models.Sequential()\n",
    "model.add(keras.layers.Flatten(input_shape=[32, 32, 3]))\n",
    "model.add(keras.layers.BatchNormalization())\n",
    "for _ in range(20):\n",
    "    model.add(keras.layers.Dense(100, kernel_initializer=\"he_normal\"))\n",
    "    model.add(keras.layers.BatchNormalization())\n",
    "    model.add(keras.layers.Activation(\"elu\"))\n",
    "model.add(keras.layers.Dense(10, activation=\"softmax\"))\n",
    "\n",
    "optimizer = keras.optimizers.Nadam(learning_rate=5e-4)\n",
    "model.compile(loss=\"sparse_categorical_crossentropy\",\n",
    "              optimizer=optimizer,\n",
    "              metrics=['accuracy'])\n",
    "\n",
    "early_stopping_cb = keras.callbacks.EarlyStopping(patience=20)\n",
    "model_checkpoint_cb = keras.callbacks.ModelCheckpoint(\"my_cifar10_bn_model.h5\", save_best_only=True)\n",
    "run_index = 1 # increment every time when we train the model\n",
    "run_logdir = os.path.join(os.curdir, \"my_cifar10_logs\", \"run_bn_{:03d}\".format(run_index))\n",
    "tensorboard_cb = keras.callbacks.TensorBoard(run_logdir)\n",
    "callbacks = [early_stopping_cb, model_checkpoint_cb, tensorboard_cb]\n",
    "\n",
    "model.fit(X_train, y_train, epochs=100,\n",
    "          validation_data=(X_valid, y_valid),\n",
    "          callbacks=callbacks)\n",
    "\n",
    "model = keras.models.load_model(\"my_cifar10_bn_model.h5\")\n",
    "model.evaluate(X_valid, y_valid)"
   ]
  },
  {
   "cell_type": "markdown",
   "metadata": {},
   "source": [
    "* *Is the model converging faster than before?* Much faster! The previous model took 27 epochs to reach the lowest validation loss, while the new model achieved that same loss in just 5 epochs and continued to make progress until the 16th epoch. The BN layers stabilized training and allowed us to use a much larger learning rate, so convergence was faster.\n",
    "* *Does BN produce a better model?* Yes! The final model is also much better, with 54.0% accuracy instead of 47.6%. It's still not a very good model, but at least it's much better than before (a Convolutional Neural Network would do much better, but that's a different topic, see chapter 14).\n",
    "* *How does BN affect training speed?* Although the model converged much faster, each epoch took about 12s instead of 8s, because of the extra computations required by the BN layers. But overall the training time (wall time) was shortened significantly!"
   ]
  },
  {
   "cell_type": "markdown",
   "metadata": {},
   "source": [
    "### d.\n",
    "*Exercise: Try replacing Batch Normalization with SELU, and make the necessary adjustements to ensure the network self-normalizes (i.e., standardize the input features, use LeCun normal initialization, make sure the DNN contains only a sequence of dense layers, etc.).*"
   ]
  },
  {
   "cell_type": "code",
   "execution_count": 29,
   "metadata": {},
   "outputs": [
    {
     "name": "stdout",
     "output_type": "stream",
     "text": [
      "Epoch 1/100\n",
      "1407/1407 [==============================] - 20s 10ms/step - loss: 1.8996 - accuracy: 0.3196 - val_loss: 1.7557 - val_accuracy: 0.3836\n",
      "Epoch 2/100\n",
      "   6/1407 [..............................] - ETA: 14s - loss: 1.7794 - accuracy: 0.3281"
     ]
    },
    {
     "name": "stderr",
     "output_type": "stream",
     "text": [
      "/Users/Adit/codes/ml_101/handson-ml2-master/ml_env/lib/python3.9/site-packages/keras/src/engine/training.py:3103: UserWarning: You are saving your model as an HDF5 file via `model.save()`. This file format is considered legacy. We recommend using instead the native Keras format, e.g. `model.save('my_model.keras')`.\n",
      "  saving_api.save_model(\n"
     ]
    },
    {
     "name": "stdout",
     "output_type": "stream",
     "text": [
      "1407/1407 [==============================] - 14s 10ms/step - loss: 1.6904 - accuracy: 0.3998 - val_loss: 1.6670 - val_accuracy: 0.4014\n",
      "Epoch 3/100\n",
      "1407/1407 [==============================] - 14s 10ms/step - loss: 1.5989 - accuracy: 0.4358 - val_loss: 1.6164 - val_accuracy: 0.4124\n",
      "Epoch 4/100\n",
      "1407/1407 [==============================] - 14s 10ms/step - loss: 1.5379 - accuracy: 0.4596 - val_loss: 1.6203 - val_accuracy: 0.4394\n",
      "Epoch 5/100\n",
      "1407/1407 [==============================] - 15s 10ms/step - loss: 1.4790 - accuracy: 0.4826 - val_loss: 1.5297 - val_accuracy: 0.4664\n",
      "Epoch 6/100\n",
      "1407/1407 [==============================] - 15s 10ms/step - loss: 1.4362 - accuracy: 0.4992 - val_loss: 1.5138 - val_accuracy: 0.4794\n",
      "Epoch 7/100\n",
      "1407/1407 [==============================] - 15s 11ms/step - loss: 1.3951 - accuracy: 0.5146 - val_loss: 1.5207 - val_accuracy: 0.4738\n",
      "Epoch 8/100\n",
      "1407/1407 [==============================] - 16s 11ms/step - loss: 1.3606 - accuracy: 0.5241 - val_loss: 1.4911 - val_accuracy: 0.4852\n",
      "Epoch 9/100\n",
      "1407/1407 [==============================] - 16s 11ms/step - loss: 1.3231 - accuracy: 0.5432 - val_loss: 1.5233 - val_accuracy: 0.4662\n",
      "Epoch 10/100\n",
      "1407/1407 [==============================] - 18s 13ms/step - loss: 1.2931 - accuracy: 0.5522 - val_loss: 1.5348 - val_accuracy: 0.4724\n",
      "Epoch 11/100\n",
      "1407/1407 [==============================] - 17s 12ms/step - loss: 1.2680 - accuracy: 0.5616 - val_loss: 1.5294 - val_accuracy: 0.4974\n",
      "Epoch 12/100\n",
      "1407/1407 [==============================] - 16s 11ms/step - loss: 1.2403 - accuracy: 0.5719 - val_loss: 1.5349 - val_accuracy: 0.4870\n",
      "Epoch 13/100\n",
      "1407/1407 [==============================] - 18s 12ms/step - loss: 1.2163 - accuracy: 0.5801 - val_loss: 1.4775 - val_accuracy: 0.5032\n",
      "Epoch 14/100\n",
      "1407/1407 [==============================] - 17s 12ms/step - loss: 1.1898 - accuracy: 0.5909 - val_loss: 1.5148 - val_accuracy: 0.4908\n",
      "Epoch 15/100\n",
      "1407/1407 [==============================] - 17s 12ms/step - loss: 1.1649 - accuracy: 0.6016 - val_loss: 1.5027 - val_accuracy: 0.5008\n",
      "Epoch 16/100\n",
      "1407/1407 [==============================] - 18s 12ms/step - loss: 1.1483 - accuracy: 0.6074 - val_loss: 1.5139 - val_accuracy: 0.5122\n",
      "Epoch 17/100\n",
      "1407/1407 [==============================] - 18s 13ms/step - loss: 1.1229 - accuracy: 0.6145 - val_loss: 1.5032 - val_accuracy: 0.4978\n",
      "Epoch 18/100\n",
      "1407/1407 [==============================] - 18s 13ms/step - loss: 1.0939 - accuracy: 0.6268 - val_loss: 1.5275 - val_accuracy: 0.5022\n",
      "Epoch 19/100\n",
      "1407/1407 [==============================] - 18s 13ms/step - loss: 1.0856 - accuracy: 0.6312 - val_loss: 1.5730 - val_accuracy: 0.5128\n",
      "Epoch 20/100\n",
      "1407/1407 [==============================] - 19s 14ms/step - loss: 1.0678 - accuracy: 0.6333 - val_loss: 1.5017 - val_accuracy: 0.5108\n",
      "Epoch 21/100\n",
      "1407/1407 [==============================] - 18s 13ms/step - loss: 1.0409 - accuracy: 0.6453 - val_loss: 1.5480 - val_accuracy: 0.5128\n",
      "Epoch 22/100\n",
      "1407/1407 [==============================] - 20s 14ms/step - loss: 1.0299 - accuracy: 0.6513 - val_loss: 1.5515 - val_accuracy: 0.5188\n",
      "Epoch 23/100\n",
      "1407/1407 [==============================] - 19s 14ms/step - loss: 1.0083 - accuracy: 0.6601 - val_loss: 1.5757 - val_accuracy: 0.5016\n",
      "Epoch 24/100\n",
      "1407/1407 [==============================] - 20s 14ms/step - loss: 0.9916 - accuracy: 0.6638 - val_loss: 1.6136 - val_accuracy: 0.5120\n",
      "Epoch 25/100\n",
      "1407/1407 [==============================] - 20s 14ms/step - loss: 0.9711 - accuracy: 0.6690 - val_loss: 1.5787 - val_accuracy: 0.5136\n",
      "Epoch 26/100\n",
      "1407/1407 [==============================] - 20s 14ms/step - loss: 0.9505 - accuracy: 0.6796 - val_loss: 1.5762 - val_accuracy: 0.5100\n",
      "Epoch 27/100\n",
      "1407/1407 [==============================] - 20s 14ms/step - loss: 0.9442 - accuracy: 0.6808 - val_loss: 1.5967 - val_accuracy: 0.5000\n",
      "Epoch 28/100\n",
      "1407/1407 [==============================] - 20s 14ms/step - loss: 0.9229 - accuracy: 0.6892 - val_loss: 1.6140 - val_accuracy: 0.5092\n",
      "Epoch 29/100\n",
      "1407/1407 [==============================] - 21s 15ms/step - loss: 0.9143 - accuracy: 0.6937 - val_loss: 1.6065 - val_accuracy: 0.5144\n",
      "Epoch 30/100\n",
      "1407/1407 [==============================] - 20s 14ms/step - loss: 0.8987 - accuracy: 0.6975 - val_loss: 1.6431 - val_accuracy: 0.5168\n",
      "Epoch 31/100\n",
      "1407/1407 [==============================] - 20s 14ms/step - loss: 0.8897 - accuracy: 0.7023 - val_loss: 1.6038 - val_accuracy: 0.5134\n",
      "Epoch 32/100\n",
      "1407/1407 [==============================] - 21s 15ms/step - loss: 0.8787 - accuracy: 0.7023 - val_loss: 1.6405 - val_accuracy: 0.5034\n",
      "Epoch 33/100\n",
      "1407/1407 [==============================] - 23s 16ms/step - loss: 0.8614 - accuracy: 0.7112 - val_loss: 1.6783 - val_accuracy: 0.5084\n",
      "157/157 [==============================] - 1s 4ms/step - loss: 1.4775 - accuracy: 0.5032\n"
     ]
    },
    {
     "data": {
      "text/plain": [
       "[1.477542519569397, 0.5031999945640564]"
      ]
     },
     "execution_count": 29,
     "metadata": {},
     "output_type": "execute_result"
    }
   ],
   "source": [
    "keras.backend.clear_session()\n",
    "tf.random.set_seed(42)\n",
    "np.random.seed(42)\n",
    "\n",
    "model = keras.models.Sequential()\n",
    "model.add(keras.layers.Flatten(input_shape=[32, 32, 3]))\n",
    "#model.add(keras.layers.BatchNormalization())\n",
    "for _ in range(20):\n",
    "    model.add(keras.layers.Dense(100,\n",
    "                                 kernel_initializer=\"lecun_normal\",\n",
    "                                 activation=\"selu\"))\n",
    "model.add(keras.layers.Dense(10, activation=\"softmax\"))\n",
    "\n",
    "optimizer = keras.optimizers.Nadam(learning_rate=7e-4)\n",
    "model.compile(loss=\"sparse_categorical_crossentropy\",\n",
    "              optimizer=optimizer,\n",
    "              metrics=['accuracy'])\n",
    "\n",
    "early_stopping_cb = keras.callbacks.EarlyStopping(patience=20)\n",
    "model_checkpoint_cb = keras.callbacks.ModelCheckpoint(\"my_cifar10_selu_model.h5\", save_best_only=True)\n",
    "run_index = 1 # increment every time when we train the model\n",
    "run_logdir = os.path.join(os.curdir, \"my_cifar10_logs\", \"run_selu_{:03d}\".format(run_index))\n",
    "tensorboard_cb = keras.callbacks.TensorBoard(run_logdir)\n",
    "callbacks = [early_stopping_cb, model_checkpoint_cb, tensorboard_cb]\n",
    "\n",
    "X_means = X_train.mean(axis=0)\n",
    "X_stds = X_train.std(axis=0)\n",
    "X_train_scaled = (X_train - X_means) / X_stds\n",
    "X_valid_scaled = (X_valid - X_means) / X_stds\n",
    "X_test_scaled = (X_test - X_means) / X_stds\n",
    "\n",
    "model.fit(X_train_scaled, y_train, epochs=100,\n",
    "          validation_data=(X_valid_scaled, y_valid),\n",
    "          callbacks=callbacks)\n",
    "\n",
    "model = keras.models.load_model(\"my_cifar10_selu_model.h5\")\n",
    "model.evaluate(X_valid_scaled, y_valid)"
   ]
  },
  {
   "cell_type": "code",
   "execution_count": 30,
   "metadata": {},
   "outputs": [
    {
     "name": "stdout",
     "output_type": "stream",
     "text": [
      "157/157 [==============================] - 1s 4ms/step - loss: 1.4775 - accuracy: 0.5032\n"
     ]
    },
    {
     "data": {
      "text/plain": [
       "[1.477542519569397, 0.5031999945640564]"
      ]
     },
     "execution_count": 30,
     "metadata": {},
     "output_type": "execute_result"
    }
   ],
   "source": [
    "model = keras.models.load_model(\"my_cifar10_selu_model.h5\")\n",
    "model.evaluate(X_valid_scaled, y_valid)"
   ]
  },
  {
   "cell_type": "markdown",
   "metadata": {},
   "source": [
    "We get 50.3% accuracy, which is not much better than the original model, and not as good as the model using batch normalization (55.0%). However, convergence was almost as fast as with the BN model, plus each epoch took only 7 seconds. So it's by far the fastest model to train so far."
   ]
  },
  {
   "cell_type": "markdown",
   "metadata": {},
   "source": [
    "### e.\n",
    "*Exercise: Try regularizing the model with alpha dropout. Then, without retraining your model, see if you can achieve better accuracy using MC Dropout.*"
   ]
  },
  {
   "cell_type": "code",
   "execution_count": 31,
   "metadata": {},
   "outputs": [
    {
     "name": "stdout",
     "output_type": "stream",
     "text": [
      "Epoch 1/100\n",
      "1407/1407 [==============================] - 21s 11ms/step - loss: 1.8936 - accuracy: 0.3238 - val_loss: 1.7366 - val_accuracy: 0.3912\n",
      "Epoch 2/100\n",
      "   1/1407 [..............................] - ETA: 17s - loss: 1.8313 - accuracy: 0.3438"
     ]
    },
    {
     "name": "stderr",
     "output_type": "stream",
     "text": [
      "/Users/Adit/codes/ml_101/handson-ml2-master/ml_env/lib/python3.9/site-packages/keras/src/engine/training.py:3103: UserWarning: You are saving your model as an HDF5 file via `model.save()`. This file format is considered legacy. We recommend using instead the native Keras format, e.g. `model.save('my_model.keras')`.\n",
      "  saving_api.save_model(\n"
     ]
    },
    {
     "name": "stdout",
     "output_type": "stream",
     "text": [
      "1407/1407 [==============================] - 16s 11ms/step - loss: 1.6652 - accuracy: 0.4126 - val_loss: 1.6834 - val_accuracy: 0.4086\n",
      "Epoch 3/100\n",
      "1407/1407 [==============================] - 16s 11ms/step - loss: 1.5816 - accuracy: 0.4478 - val_loss: 1.6089 - val_accuracy: 0.4330\n",
      "Epoch 4/100\n",
      "1407/1407 [==============================] - 16s 11ms/step - loss: 1.5124 - accuracy: 0.4676 - val_loss: 1.6012 - val_accuracy: 0.4506\n",
      "Epoch 5/100\n",
      "1407/1407 [==============================] - 16s 11ms/step - loss: 1.4597 - accuracy: 0.4891 - val_loss: 1.5535 - val_accuracy: 0.4718\n",
      "Epoch 6/100\n",
      "1407/1407 [==============================] - 16s 11ms/step - loss: 1.4078 - accuracy: 0.5086 - val_loss: 1.5098 - val_accuracy: 0.4908\n",
      "Epoch 7/100\n",
      "1407/1407 [==============================] - 16s 12ms/step - loss: 1.3649 - accuracy: 0.5221 - val_loss: 1.5923 - val_accuracy: 0.4688\n",
      "Epoch 8/100\n",
      "1407/1407 [==============================] - 16s 11ms/step - loss: 1.3255 - accuracy: 0.5382 - val_loss: 1.5350 - val_accuracy: 0.4862\n",
      "Epoch 9/100\n",
      "1407/1407 [==============================] - 18s 13ms/step - loss: 1.2921 - accuracy: 0.5508 - val_loss: 1.5327 - val_accuracy: 0.4736\n",
      "Epoch 10/100\n",
      "1407/1407 [==============================] - 17s 12ms/step - loss: 1.2558 - accuracy: 0.5609 - val_loss: 1.5631 - val_accuracy: 0.4880\n",
      "Epoch 11/100\n",
      "1407/1407 [==============================] - 17s 12ms/step - loss: 1.2259 - accuracy: 0.5764 - val_loss: 1.5921 - val_accuracy: 0.4906\n",
      "Epoch 12/100\n",
      "1407/1407 [==============================] - 17s 12ms/step - loss: 1.1954 - accuracy: 0.5861 - val_loss: 1.5319 - val_accuracy: 0.5014\n",
      "Epoch 13/100\n",
      "1407/1407 [==============================] - 17s 12ms/step - loss: 1.1641 - accuracy: 0.5978 - val_loss: 1.5468 - val_accuracy: 0.5006\n",
      "Epoch 14/100\n",
      "1407/1407 [==============================] - 18s 13ms/step - loss: 1.1375 - accuracy: 0.6087 - val_loss: 1.5177 - val_accuracy: 0.5132\n",
      "Epoch 15/100\n",
      "1407/1407 [==============================] - 18s 13ms/step - loss: 1.1077 - accuracy: 0.6156 - val_loss: 1.5945 - val_accuracy: 0.4904\n",
      "Epoch 16/100\n",
      "1407/1407 [==============================] - 18s 13ms/step - loss: 1.0861 - accuracy: 0.6250 - val_loss: 1.6067 - val_accuracy: 0.5064\n",
      "Epoch 17/100\n",
      "1407/1407 [==============================] - 19s 14ms/step - loss: 1.0588 - accuracy: 0.6374 - val_loss: 1.6404 - val_accuracy: 0.5094\n",
      "Epoch 18/100\n",
      "1407/1407 [==============================] - 20s 14ms/step - loss: 1.0400 - accuracy: 0.6440 - val_loss: 1.5973 - val_accuracy: 0.4972\n",
      "Epoch 19/100\n",
      "1407/1407 [==============================] - 21s 15ms/step - loss: 1.0179 - accuracy: 0.6505 - val_loss: 1.7249 - val_accuracy: 0.5122\n",
      "Epoch 20/100\n",
      "1407/1407 [==============================] - 20s 15ms/step - loss: 0.9914 - accuracy: 0.6621 - val_loss: 1.7164 - val_accuracy: 0.4990\n",
      "Epoch 21/100\n",
      "1407/1407 [==============================] - 19s 14ms/step - loss: 0.9757 - accuracy: 0.6666 - val_loss: 1.7095 - val_accuracy: 0.5016\n",
      "Epoch 22/100\n",
      "1407/1407 [==============================] - 19s 13ms/step - loss: 0.9546 - accuracy: 0.6734 - val_loss: 1.6273 - val_accuracy: 0.5064\n",
      "Epoch 23/100\n",
      "1407/1407 [==============================] - 18s 12ms/step - loss: 0.9291 - accuracy: 0.6826 - val_loss: 1.6415 - val_accuracy: 0.5022\n",
      "Epoch 24/100\n",
      "1407/1407 [==============================] - 21s 15ms/step - loss: 0.9185 - accuracy: 0.6869 - val_loss: 1.6986 - val_accuracy: 0.4976\n",
      "Epoch 25/100\n",
      "1407/1407 [==============================] - 37s 27ms/step - loss: 0.8983 - accuracy: 0.6934 - val_loss: 1.7779 - val_accuracy: 0.4986\n",
      "Epoch 26/100\n",
      "1407/1407 [==============================] - 35s 25ms/step - loss: 0.8774 - accuracy: 0.7011 - val_loss: 1.7893 - val_accuracy: 0.5016\n",
      "157/157 [==============================] - 2s 7ms/step - loss: 1.5098 - accuracy: 0.4908\n"
     ]
    },
    {
     "data": {
      "text/plain": [
       "[1.509841799736023, 0.49079999327659607]"
      ]
     },
     "execution_count": 31,
     "metadata": {},
     "output_type": "execute_result"
    }
   ],
   "source": [
    "keras.backend.clear_session()\n",
    "tf.random.set_seed(42)\n",
    "np.random.seed(42)\n",
    "\n",
    "model = keras.models.Sequential()\n",
    "model.add(keras.layers.Flatten(input_shape=[32, 32, 3]))\n",
    "for _ in range(20):\n",
    "    model.add(keras.layers.Dense(100,\n",
    "                                 kernel_initializer=\"lecun_normal\",\n",
    "                                 activation=\"selu\"))\n",
    "\n",
    "model.add(keras.layers.AlphaDropout(rate=0.1))\n",
    "model.add(keras.layers.Dense(10, activation=\"softmax\"))\n",
    "\n",
    "optimizer = keras.optimizers.Nadam(learning_rate=5e-4)\n",
    "model.compile(loss=\"sparse_categorical_crossentropy\",\n",
    "              optimizer=optimizer,\n",
    "              metrics=['accuracy'])\n",
    "\n",
    "early_stopping_cb = keras.callbacks.EarlyStopping(patience=20)\n",
    "model_checkpoint_cb = keras.callbacks.ModelCheckpoint(\"my_cifar10_alpha_dropout_model.h5\", save_best_only=True)\n",
    "run_index = 1 # increment every time when we train the model\n",
    "run_logdir = os.path.join(os.curdir, \"my_cifar10_logs\", \"run_alpha_dropout_{:03d}\".format(run_index))\n",
    "tensorboard_cb = keras.callbacks.TensorBoard(run_logdir)\n",
    "callbacks = [early_stopping_cb, model_checkpoint_cb, tensorboard_cb]\n",
    "\n",
    "X_means = X_train.mean(axis=0)\n",
    "X_stds = X_train.std(axis=0)\n",
    "X_train_scaled = (X_train - X_means) / X_stds\n",
    "X_valid_scaled = (X_valid - X_means) / X_stds\n",
    "X_test_scaled = (X_test - X_means) / X_stds\n",
    "\n",
    "model.fit(X_train_scaled, y_train, epochs=100,\n",
    "          validation_data=(X_valid_scaled, y_valid),\n",
    "          callbacks=callbacks)\n",
    "\n",
    "model = keras.models.load_model(\"my_cifar10_alpha_dropout_model.h5\")\n",
    "model.evaluate(X_valid_scaled, y_valid)"
   ]
  },
  {
   "cell_type": "markdown",
   "metadata": {},
   "source": [
    "The model reaches 49.0% accuracy on the validation set. That's very slightly better than without dropout (47.6%). With an extensive hyperparameter search, it might be possible to do better (I tried dropout rates of 5%, 10%, 20% and 40%, and learning rates 1e-4, 3e-4, 5e-4, and 1e-3), but probably not much better in this case."
   ]
  },
  {
   "cell_type": "markdown",
   "metadata": {},
   "source": [
    "Let's use MC Dropout now. We will need the `MCAlphaDropout` class we used earlier, so let's just copy it here for convenience:"
   ]
  },
  {
   "cell_type": "code",
   "execution_count": 35,
   "metadata": {},
   "outputs": [],
   "source": [
    "class MCAlphaDropout(keras.layers.AlphaDropout):\n",
    "    def call(self, inputs):\n",
    "        return super().call(inputs, training=True)"
   ]
  },
  {
   "cell_type": "markdown",
   "metadata": {},
   "source": [
    "Now let's create a new model, identical to the one we just trained (with the same weights), but with `MCAlphaDropout` dropout layers instead of `AlphaDropout` layers:"
   ]
  },
  {
   "cell_type": "code",
   "execution_count": 36,
   "metadata": {},
   "outputs": [],
   "source": [
    "mc_model = keras.models.Sequential([\n",
    "    MCAlphaDropout(layer.rate) if isinstance(layer, keras.layers.AlphaDropout) else layer\n",
    "    for layer in model.layers\n",
    "])"
   ]
  },
  {
   "cell_type": "markdown",
   "metadata": {},
   "source": [
    "Then let's add a couple utility functions. \n",
    "\n",
    "The first will run the model many times (10 by default) and it will return the mean predicted class probabilities. \n",
    "\n",
    "The second will use these mean probabilities to predict the most likely class for each instance:"
   ]
  },
  {
   "cell_type": "code",
   "execution_count": 39,
   "metadata": {},
   "outputs": [],
   "source": [
    "def mc_dropout_predict_probas(mc_model, X, n_samples=10):\n",
    "    Y_probas = [mc_model.predict(X) for sample in range(n_samples)]\n",
    "    return np.mean(Y_probas, axis=0)\n",
    "\n",
    "def mc_dropout_predict_classes(mc_model, X, n_samples=10):\n",
    "    Y_probas = mc_dropout_predict_probas(mc_model, X, n_samples)\n",
    "    return np.argmax(Y_probas, axis=1)"
   ]
  },
  {
   "cell_type": "markdown",
   "metadata": {},
   "source": [
    "Now let's make predictions for all the instances in the validation set, and compute the accuracy:"
   ]
  },
  {
   "cell_type": "code",
   "execution_count": 40,
   "metadata": {},
   "outputs": [
    {
     "name": "stdout",
     "output_type": "stream",
     "text": [
      "157/157 [==============================] - 1s 6ms/step\n",
      "157/157 [==============================] - 1s 3ms/step\n",
      "157/157 [==============================] - 1s 4ms/step\n",
      "157/157 [==============================] - 1s 4ms/step\n",
      "157/157 [==============================] - 1s 3ms/step\n",
      "157/157 [==============================] - 1s 3ms/step\n",
      "157/157 [==============================] - 1s 3ms/step\n",
      "157/157 [==============================] - 1s 5ms/step\n",
      "157/157 [==============================] - 1s 4ms/step\n",
      "157/157 [==============================] - 1s 4ms/step\n"
     ]
    },
    {
     "data": {
      "text/plain": [
       "0.491"
      ]
     },
     "execution_count": 40,
     "metadata": {},
     "output_type": "execute_result"
    }
   ],
   "source": [
    "keras.backend.clear_session()\n",
    "tf.random.set_seed(42)\n",
    "np.random.seed(42)\n",
    "\n",
    "y_pred = mc_dropout_predict_classes(mc_model, X_valid_scaled)\n",
    "accuracy = np.mean(y_pred == y_valid[:, 0])\n",
    "accuracy"
   ]
  },
  {
   "cell_type": "markdown",
   "metadata": {},
   "source": [
    "We get no accuracy improvement in this case (we're still at 48.9% accuracy).\n",
    "\n",
    "So the best model we got in this exercise is the Batch Normalization model."
   ]
  },
  {
   "cell_type": "markdown",
   "metadata": {},
   "source": [
    "### f.\n",
    "*Exercise: Retrain your model using 1cycle scheduling and see if it improves training speed and model accuracy.*"
   ]
  },
  {
   "cell_type": "code",
   "execution_count": 41,
   "metadata": {},
   "outputs": [],
   "source": [
    "keras.backend.clear_session()\n",
    "tf.random.set_seed(42)\n",
    "np.random.seed(42)\n",
    "\n",
    "model = keras.models.Sequential()\n",
    "model.add(keras.layers.Flatten(input_shape=[32, 32, 3]))\n",
    "for _ in range(20):\n",
    "    model.add(keras.layers.Dense(100,\n",
    "                                 kernel_initializer=\"lecun_normal\",\n",
    "                                 activation=\"selu\"))\n",
    "\n",
    "model.add(keras.layers.AlphaDropout(rate=0.1))\n",
    "model.add(keras.layers.Dense(10, activation=\"softmax\"))\n",
    "\n",
    "optimizer = keras.optimizers.SGD(learning_rate=1e-3)\n",
    "model.compile(loss=\"sparse_categorical_crossentropy\",\n",
    "              optimizer=optimizer,\n",
    "              metrics=['accuracy'])"
   ]
  },
  {
   "cell_type": "code",
   "execution_count": 66,
   "metadata": {},
   "outputs": [],
   "source": [
    "import math\n",
    "K = keras.backend\n",
    "\n",
    "class ExponentialLearningRate(keras.callbacks.Callback):\n",
    "    def __init__(self, factor):\n",
    "        self.factor = factor\n",
    "        self.rates = []\n",
    "        self.losses = []\n",
    "    def on_batch_end(self, batch, logs):\n",
    "        self.rates.append(K.get_value(self.model.optimizer.learning_rate))\n",
    "        self.losses.append(logs[\"loss\"])\n",
    "        K.set_value(self.model.optimizer.learning_rate, self.model.optimizer.learning_rate * self.factor)\n",
    "\n",
    "def find_learning_rate(model, X, y, epochs=1, batch_size=32, min_rate=10**-5, max_rate=10):\n",
    "    init_weights = model.get_weights()\n",
    "    iterations = math.ceil(len(X) / batch_size) * epochs\n",
    "    factor = np.exp(np.log(max_rate / min_rate) / iterations)\n",
    "    init_lr = K.get_value(model.optimizer.learning_rate)\n",
    "    K.set_value(model.optimizer.learning_rate, min_rate)\n",
    "    exp_lr = ExponentialLearningRate(factor)\n",
    "    history = model.fit(X, y, epochs=epochs, batch_size=batch_size,\n",
    "                        callbacks=[exp_lr])\n",
    "    K.set_value(model.optimizer.learning_rate, init_lr)\n",
    "    model.set_weights(init_weights)\n",
    "    return exp_lr.rates, exp_lr.losses\n",
    "\n",
    "def plot_lr_vs_loss(rates, losses):\n",
    "    plt.plot(rates, losses)\n",
    "    plt.gca().set_xscale('log')\n",
    "    plt.hlines(min(losses), min(rates), max(rates))\n",
    "    plt.axis([min(rates), max(rates), min(losses), (losses[0] + min(losses)) / 2])\n",
    "    plt.xlabel(\"Learning rate\")\n",
    "    plt.ylabel(\"Loss\")"
   ]
  },
  {
   "cell_type": "code",
   "execution_count": 69,
   "metadata": {},
   "outputs": [
    {
     "name": "stdout",
     "output_type": "stream",
     "text": [
      "352/352 [==============================] - 14s 40ms/step - loss: nan - accuracy: 0.4889\n"
     ]
    },
    {
     "data": {
      "text/plain": [
       "(9.999999747378752e-06,\n",
       " 9.615227699279785,\n",
       " 0.8319306969642639,\n",
       " 1.2571042350360326)"
      ]
     },
     "execution_count": 69,
     "metadata": {},
     "output_type": "execute_result"
    },
    {
     "data": {
      "image/png": "[encoded data removed]",
      "text/plain": [
       "<Figure size 640x480 with 1 Axes>"
      ]
     },
     "metadata": {},
     "output_type": "display_data"
    }
   ],
   "source": [
    "# To plot pretty figures\n",
    "%matplotlib inline\n",
    "import matplotlib as mpl\n",
    "import matplotlib.pyplot as plt\n",
    "\n",
    "batch_size = 128\n",
    "rates, losses = find_learning_rate(model, X_train_scaled, y_train, epochs=1, batch_size=batch_size)\n",
    "plot_lr_vs_loss(rates, losses)\n",
    "plt.axis([min(rates), max(rates), min(losses), (losses[0] + min(losses)) / 1.4])"
   ]
  },
  {
   "cell_type": "code",
   "execution_count": 58,
   "metadata": {},
   "outputs": [],
   "source": [
    "keras.backend.clear_session()\n",
    "tf.random.set_seed(42)\n",
    "np.random.seed(42)\n",
    "\n",
    "model = keras.models.Sequential()\n",
    "model.add(keras.layers.Flatten(input_shape=[32, 32, 3]))\n",
    "for _ in range(20):\n",
    "    model.add(keras.layers.Dense(100,\n",
    "                                 kernel_initializer=\"lecun_normal\",\n",
    "                                 activation=\"selu\"))\n",
    "\n",
    "model.add(keras.layers.AlphaDropout(rate=0.1))\n",
    "model.add(keras.layers.Dense(10, activation=\"softmax\"))\n",
    "\n",
    "optimizer = keras.optimizers.SGD(learning_rate=1e-2)\n",
    "model.compile(loss=\"sparse_categorical_crossentropy\",\n",
    "              optimizer=optimizer,\n",
    "              metrics=['accuracy'])"
   ]
  },
  {
   "cell_type": "code",
   "execution_count": 60,
   "metadata": {},
   "outputs": [],
   "source": [
    "class OneCycleScheduler(keras.callbacks.Callback):\n",
    "    def __init__(self, iterations, max_rate, start_rate=None,\n",
    "                 last_iterations=None, last_rate=None):\n",
    "        self.iterations = iterations\n",
    "        self.max_rate = max_rate\n",
    "        self.start_rate = start_rate or max_rate / 10\n",
    "        self.last_iterations = last_iterations or iterations // 10 + 1\n",
    "        self.half_iteration = (iterations - self.last_iterations) // 2\n",
    "        self.last_rate = last_rate or self.start_rate / 1000\n",
    "        self.iteration = 0\n",
    "    def _interpolate(self, iter1, iter2, rate1, rate2):\n",
    "        return ((rate2 - rate1) * (self.iteration - iter1)\n",
    "                / (iter2 - iter1) + rate1)\n",
    "    def on_batch_begin(self, batch, logs):\n",
    "        if self.iteration < self.half_iteration:\n",
    "            rate = self._interpolate(0, self.half_iteration, self.start_rate, self.max_rate)\n",
    "        elif self.iteration < 2 * self.half_iteration:\n",
    "            rate = self._interpolate(self.half_iteration, 2 * self.half_iteration,\n",
    "                                     self.max_rate, self.start_rate)\n",
    "        else:\n",
    "            rate = self._interpolate(2 * self.half_iteration, self.iterations,\n",
    "                                     self.start_rate, self.last_rate)\n",
    "        self.iteration += 1\n",
    "        K.set_value(self.model.optimizer.learning_rate, rate)"
   ]
  },
  {
   "cell_type": "code",
   "execution_count": 61,
   "metadata": {},
   "outputs": [
    {
     "name": "stdout",
     "output_type": "stream",
     "text": [
      "Epoch 1/15\n",
      "352/352 [==============================] - 10s 20ms/step - loss: 2.0527 - accuracy: 0.2809 - val_loss: 1.7548 - val_accuracy: 0.3686\n",
      "Epoch 2/15\n",
      "352/352 [==============================] - 12s 33ms/step - loss: 1.7595 - accuracy: 0.3752 - val_loss: 1.6625 - val_accuracy: 0.4142\n",
      "Epoch 3/15\n",
      "352/352 [==============================] - 16s 45ms/step - loss: 1.6250 - accuracy: 0.4218 - val_loss: 1.6169 - val_accuracy: 0.4280\n",
      "Epoch 4/15\n",
      "352/352 [==============================] - 14s 39ms/step - loss: 1.5487 - accuracy: 0.4498 - val_loss: 1.6379 - val_accuracy: 0.4264\n",
      "Epoch 5/15\n",
      "352/352 [==============================] - 13s 37ms/step - loss: 1.4979 - accuracy: 0.4690 - val_loss: 1.6878 - val_accuracy: 0.4318\n",
      "Epoch 6/15\n",
      "352/352 [==============================] - 13s 37ms/step - loss: 1.4575 - accuracy: 0.4836 - val_loss: 1.5933 - val_accuracy: 0.4450\n",
      "Epoch 7/15\n",
      "352/352 [==============================] - 11s 33ms/step - loss: 1.4136 - accuracy: 0.4982 - val_loss: 1.6650 - val_accuracy: 0.4426\n",
      "Epoch 8/15\n",
      "352/352 [==============================] - 14s 41ms/step - loss: 1.3516 - accuracy: 0.5208 - val_loss: 1.5386 - val_accuracy: 0.4708\n",
      "Epoch 9/15\n",
      "352/352 [==============================] - 12s 35ms/step - loss: 1.2777 - accuracy: 0.5464 - val_loss: 1.5581 - val_accuracy: 0.4796\n",
      "Epoch 10/15\n",
      "352/352 [==============================] - 12s 33ms/step - loss: 1.2036 - accuracy: 0.5707 - val_loss: 1.5200 - val_accuracy: 0.5024\n",
      "Epoch 11/15\n",
      "352/352 [==============================] - 9s 26ms/step - loss: 1.1363 - accuracy: 0.5944 - val_loss: 1.5800 - val_accuracy: 0.4920\n",
      "Epoch 12/15\n",
      "352/352 [==============================] - 9s 26ms/step - loss: 1.0696 - accuracy: 0.6183 - val_loss: 1.5150 - val_accuracy: 0.5058\n",
      "Epoch 13/15\n",
      "352/352 [==============================] - 10s 27ms/step - loss: 0.9982 - accuracy: 0.6419 - val_loss: 1.5430 - val_accuracy: 0.5162\n",
      "Epoch 14/15\n",
      "352/352 [==============================] - 14s 38ms/step - loss: 0.9348 - accuracy: 0.6661 - val_loss: 1.5662 - val_accuracy: 0.5222\n",
      "Epoch 15/15\n",
      "352/352 [==============================] - 14s 39ms/step - loss: 0.8932 - accuracy: 0.6813 - val_loss: 1.5936 - val_accuracy: 0.5232\n"
     ]
    }
   ],
   "source": [
    "n_epochs = 15\n",
    "onecycle = OneCycleScheduler(math.ceil(len(X_train_scaled) / batch_size) * n_epochs, max_rate=0.05)\n",
    "history = model.fit(X_train_scaled, y_train, epochs=n_epochs, batch_size=batch_size,\n",
    "                    validation_data=(X_valid_scaled, y_valid),\n",
    "                    callbacks=[onecycle])"
   ]
  },
  {
   "cell_type": "markdown",
   "metadata": {},
   "source": [
    "One cycle allowed us to train the model in just 15 epochs, each taking only 2 seconds (thanks to the larger batch size). This is several times faster than the fastest model we trained so far. Moreover, we improved the model's performance (from 47.6% to 52.0%). The batch normalized model reaches a slightly better performance (54%), but it's much slower to train."
   ]
  }
 ],
 "metadata": {
  "kernelspec": {
   "display_name": "ml_env",
   "language": "python",
   "name": "python3"
  },
  "language_info": {
   "codemirror_mode": {
    "name": "ipython",
    "version": 3
   },
   "file_extension": ".py",
   "mimetype": "text/x-python",
   "name": "python",
   "nbconvert_exporter": "python",
   "pygments_lexer": "ipython3",
   "version": "3.9.6"
  }
 },
 "nbformat": 4,
 "nbformat_minor": 2
}
