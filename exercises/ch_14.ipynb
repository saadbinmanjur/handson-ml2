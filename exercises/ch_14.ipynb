{
  "cells": [
    {
      "cell_type": "markdown",
      "metadata": {
        "id": "gSbp0V248w7p"
      },
      "source": [
        "## 9. High Accuracy CNN for MNIST\n",
        "_Exercise: Build your own CNN from scratch and try to achieve the highest possible accuracy on MNIST._"
      ]
    },
    {
      "cell_type": "markdown",
      "metadata": {
        "id": "RGNy_tBh8w7t"
      },
      "source": [
        "The following model uses\n",
        "\n",
        "- 2 convolutional layers,\n",
        "\n",
        "- followed by 1 pooling layer,\n",
        "\n",
        "- then dropout 25%,\n",
        "\n",
        "- then a dense layer,\n",
        "\n",
        "- another dropout layer but with 50% dropout,\n",
        "\n",
        "- and finally the output layer.\n",
        "\n",
        "It reaches about 99.2% accuracy on the test set. This places this model roughly in the top 20% in the [MNIST Kaggle competition](https://www.kaggle.com/c/digit-recognizer/) (if we ignore the models with an accuracy greater than 99.79% which were most likely trained on the test set, as explained by Chris Deotte in [this post](https://www.kaggle.com/c/digit-recognizer/discussion/61480)).\n",
        "\n",
        "Can you do better?\n",
        "\n",
        "To reach 99.5 to 99.7% accuracy on the test set, you need to add\n",
        "\n",
        "- image augmentation,\n",
        "\n",
        "- batch norm, use a learning schedule such as 1-cycle,\n",
        "\n",
        "- and possibly create an ensemble."
      ]
    },
    {
      "cell_type": "code",
      "execution_count": 9,
      "metadata": {
        "id": "6mJoKw1g8w7u"
      },
      "outputs": [],
      "source": [
        "import warnings\n",
        "warnings.filterwarnings(\"ignore\")"
      ]
    },
    {
      "cell_type": "code",
      "execution_count": 10,
      "metadata": {
        "id": "B3bxNL7a8w7v"
      },
      "outputs": [],
      "source": [
        "import numpy as np\n",
        "\n",
        "import tensorflow as tf\n",
        "from tensorflow import keras"
      ]
    },
    {
      "cell_type": "code",
      "execution_count": 11,
      "metadata": {
        "colab": {
          "base_uri": "https://localhost:8080/"
        },
        "id": "hlt67Tty8w7w",
        "outputId": "ac6b5dd2-74f8-4622-bac9-a4faea1b032d"
      },
      "outputs": [
        {
          "output_type": "stream",
          "name": "stdout",
          "text": [
            "Downloading data from https://storage.googleapis.com/tensorflow/tf-keras-datasets/mnist.npz\n",
            "11490434/11490434 [==============================] - 0s 0us/step\n"
          ]
        }
      ],
      "source": [
        "(X_train_full, y_train_full), (X_test, y_test) = keras.datasets.mnist.load_data()\n",
        "\n",
        "X_train_full = X_train_full / 255\n",
        "X_test = X_test / 255\n",
        "\n",
        "X_train, X_valid = X_train_full[:-5000], X_train_full[-5000:]\n",
        "y_train, y_valid = y_train_full[:-5000], y_train_full[-5000:]\n",
        "\n",
        "X_train = X_train[..., np.newaxis]\n",
        "X_valid = X_valid[..., np.newaxis]\n",
        "X_test = X_test[..., np.newaxis]"
      ]
    },
    {
      "cell_type": "code",
      "execution_count": 12,
      "metadata": {
        "id": "aSnHLw7D8w7x"
      },
      "outputs": [],
      "source": [
        "keras.backend.clear_session()\n",
        "tf.random.set_seed(42)\n",
        "np.random.seed(42)"
      ]
    },
    {
      "cell_type": "code",
      "execution_count": 13,
      "metadata": {
        "id": "rN6sJkPK8w7y"
      },
      "outputs": [],
      "source": [
        "# Model building\n",
        "model = keras.models.Sequential([\n",
        "    keras.layers.Conv2D(32, kernel_size=3, padding=\"same\", activation=\"relu\"),\n",
        "    keras.layers.Conv2D(64, kernel_size=3, padding=\"same\", activation=\"relu\"),\n",
        "    keras.layers.MaxPool2D(),\n",
        "    keras.layers.Flatten(),\n",
        "    keras.layers.Dropout(0.25),\n",
        "    keras.layers.Dense(128, activation=\"relu\"),\n",
        "    keras.layers.Dropout(0.5),\n",
        "    keras.layers.Dense(10, activation=\"softmax\")\n",
        "])\n",
        "\n",
        "model.compile(loss=\"sparse_categorical_crossentropy\", optimizer=\"nadam\",\n",
        "              metrics=[\"accuracy\"])"
      ]
    },
    {
      "cell_type": "code",
      "execution_count": 14,
      "metadata": {
        "colab": {
          "base_uri": "https://localhost:8080/"
        },
        "id": "tBnGL1Z88w7z",
        "outputId": "b8e13ebe-6666-411c-f25c-9b1a100f8d22"
      },
      "outputs": [
        {
          "output_type": "stream",
          "name": "stdout",
          "text": [
            "Epoch 1/10\n",
            "1719/1719 [==============================] - 217s 121ms/step - loss: 0.1946 - accuracy: 0.9410 - val_loss: 0.0450 - val_accuracy: 0.9876\n",
            "Epoch 2/10\n",
            "1719/1719 [==============================] - 205s 119ms/step - loss: 0.0807 - accuracy: 0.9759 - val_loss: 0.0413 - val_accuracy: 0.9882\n",
            "Epoch 3/10\n",
            "1719/1719 [==============================] - 204s 119ms/step - loss: 0.0613 - accuracy: 0.9815 - val_loss: 0.0375 - val_accuracy: 0.9906\n",
            "Epoch 4/10\n",
            "1719/1719 [==============================] - 207s 121ms/step - loss: 0.0487 - accuracy: 0.9851 - val_loss: 0.0323 - val_accuracy: 0.9908\n",
            "Epoch 5/10\n",
            "1719/1719 [==============================] - 206s 120ms/step - loss: 0.0421 - accuracy: 0.9871 - val_loss: 0.0401 - val_accuracy: 0.9906\n",
            "Epoch 6/10\n",
            "1719/1719 [==============================] - 204s 119ms/step - loss: 0.0351 - accuracy: 0.9889 - val_loss: 0.0367 - val_accuracy: 0.9924\n",
            "Epoch 7/10\n",
            "1719/1719 [==============================] - 205s 119ms/step - loss: 0.0319 - accuracy: 0.9896 - val_loss: 0.0335 - val_accuracy: 0.9920\n",
            "Epoch 8/10\n",
            "1719/1719 [==============================] - 204s 119ms/step - loss: 0.0252 - accuracy: 0.9914 - val_loss: 0.0426 - val_accuracy: 0.9904\n",
            "Epoch 9/10\n",
            "1719/1719 [==============================] - 205s 119ms/step - loss: 0.0241 - accuracy: 0.9921 - val_loss: 0.0402 - val_accuracy: 0.9922\n",
            "Epoch 10/10\n",
            "1719/1719 [==============================] - 204s 118ms/step - loss: 0.0247 - accuracy: 0.9920 - val_loss: 0.0310 - val_accuracy: 0.9934\n",
            "313/313 [==============================] - 9s 28ms/step - loss: 0.0295 - accuracy: 0.9925\n"
          ]
        },
        {
          "output_type": "execute_result",
          "data": {
            "text/plain": [
              "[0.02948763780295849, 0.9925000071525574]"
            ]
          },
          "metadata": {},
          "execution_count": 14
        }
      ],
      "source": [
        "# Model training and testing\n",
        "model.fit(X_train, y_train, epochs=10, validation_data=(X_valid, y_valid))\n",
        "model.evaluate(X_test, y_test)"
      ]
    },
    {
      "cell_type": "markdown",
      "metadata": {
        "id": "w5MjuhGj8w70"
      },
      "source": [
        "## 10.  Use transfer learning for large image classification"
      ]
    },
    {
      "cell_type": "markdown",
      "metadata": {
        "id": "ZU-1wwER8w71"
      },
      "source": [
        "_Exercise: Use transfer learning for large image classification, going through these steps:_\n",
        "\n",
        "* _Create a training set containing at least 100 images per class. For example, you could classify your own pictures based on the location (beach, mountain, city, etc.), or alternatively you can use an existing dataset (e.g., from TensorFlow Datasets)._\n",
        "* _Split it into a training set, a validation set, and a test set._\n",
        "* _Build the input pipeline, including the appropriate preprocessing operations, and optionally add data augmentation._\n",
        "* _Fine-tune a pretrained model on this dataset._"
      ]
    },
    {
      "cell_type": "code",
      "execution_count": 2,
      "metadata": {
        "colab": {
          "base_uri": "https://localhost:8080/",
          "height": 84,
          "referenced_widgets": [
            "f59b40bf598c4c3d8cf807d119ad9dad",
            "70710d0cf43e4739aecf745d5711b498",
            "5e6cc997045b45a8b24c09bbd2e03788",
            "004a3ef0d3ec4684b3560b727f9665b6",
            "a86094fecff94ab4af7165805a11aad7",
            "770e99448ef5458f9a419a988b9b3e24",
            "cb878d314889411590915d34291a3a03",
            "f0ad80c26e7d4b73a72a880c6a8cdb0e",
            "fdab614395c245dbb9c848ffe8280d5a",
            "0b95fae53b3c44d187ef85e546b5f84f",
            "94de0b73e1f349f2ac3fa8c6621a238e"
          ]
        },
        "id": "YJNfx7sy8w72",
        "outputId": "40a5a871-31ad-4cb5-8c08-f1ccb379e569"
      },
      "outputs": [
        {
          "output_type": "stream",
          "name": "stdout",
          "text": [
            "Downloading and preparing dataset 218.21 MiB (download: 218.21 MiB, generated: 221.83 MiB, total: 440.05 MiB) to /root/tensorflow_datasets/tf_flowers/3.0.1...\n"
          ]
        },
        {
          "output_type": "display_data",
          "data": {
            "text/plain": [
              "Dl Completed...:   0%|          | 0/5 [00:00<?, ? file/s]"
            ],
            "application/vnd.jupyter.widget-view+json": {
              "version_major": 2,
              "version_minor": 0,
              "model_id": "f59b40bf598c4c3d8cf807d119ad9dad"
            }
          },
          "metadata": {}
        },
        {
          "output_type": "stream",
          "name": "stdout",
          "text": [
            "Dataset tf_flowers downloaded and prepared to /root/tensorflow_datasets/tf_flowers/3.0.1. Subsequent calls will reuse this data.\n"
          ]
        }
      ],
      "source": [
        "import tensorflow as tf\n",
        "import tensorflow_datasets as tfds\n",
        "\n",
        "# Load the dataset\n",
        "dataset, info = tfds.load(\"tf_flowers\", as_supervised=True, with_info=True)\n",
        "\n",
        "# Define the classes\n",
        "num_classes = info.features['label'].num_classes\n",
        "\n",
        "# Define the training, validation, and test split sizes\n",
        "train_split = 0.7\n",
        "val_split = 0.15\n",
        "test_split = 0.15\n",
        "\n",
        "# Calculate the number of examples for each split\n",
        "num_examples = info.splits['train'].num_examples\n",
        "num_train_examples = int(train_split * num_examples)\n",
        "num_val_examples = int(val_split * num_examples)\n",
        "num_test_examples = num_examples - num_train_examples - num_val_examples"
      ]
    },
    {
      "cell_type": "code",
      "execution_count": 3,
      "metadata": {
        "id": "ROLmqBHK8w72"
      },
      "outputs": [],
      "source": [
        "# Split the dataset\n",
        "train_dataset = dataset['train'].take(num_train_examples)\n",
        "val_dataset = dataset['train'].skip(num_train_examples).take(num_val_examples)\n",
        "test_dataset = dataset['train'].skip(num_train_examples + num_val_examples).take(num_test_examples)"
      ]
    },
    {
      "cell_type": "code",
      "execution_count": 4,
      "metadata": {
        "id": "y-7bTUiy8w72"
      },
      "outputs": [],
      "source": [
        "# Define preprocessing function\n",
        "def preprocess_image(image, label):\n",
        "    image = tf.image.resize(image, (224, 224))  # Resize image to expected input size for MobileNetV2\n",
        "    image = tf.keras.applications.mobilenet_v2.preprocess_input(image)  # Preprocess the input image\n",
        "    return image, label\n",
        "\n",
        "# Apply preprocessing to datasets\n",
        "train_dataset = train_dataset.map(preprocess_image)\n",
        "val_dataset = val_dataset.map(preprocess_image)\n",
        "test_dataset = test_dataset.map(preprocess_image)\n",
        "\n",
        "# Define batch size\n",
        "batch_size = 32\n",
        "\n",
        "# Shuffle and batch the datasets\n",
        "train_dataset = train_dataset.shuffle(buffer_size=1000).batch(batch_size)\n",
        "val_dataset = val_dataset.batch(batch_size)\n",
        "test_dataset = test_dataset.batch(batch_size)"
      ]
    },
    {
      "cell_type": "code",
      "execution_count": 5,
      "metadata": {
        "colab": {
          "base_uri": "https://localhost:8080/"
        },
        "id": "Dc35a3Sb8w73",
        "outputId": "4d4753df-14a0-4847-d1a0-97317b5fc18f"
      },
      "outputs": [
        {
          "output_type": "stream",
          "name": "stdout",
          "text": [
            "Downloading data from https://storage.googleapis.com/tensorflow/keras-applications/mobilenet_v2/mobilenet_v2_weights_tf_dim_ordering_tf_kernels_1.0_224_no_top.h5\n",
            "9406464/9406464 [==============================] - 0s 0us/step\n"
          ]
        }
      ],
      "source": [
        "# Load pretrained MobileNetV2 model\n",
        "pretrained_model = tf.keras.applications.MobileNetV2(weights='imagenet', include_top=False, input_shape=(224, 224, 3))\n",
        "\n",
        "# Freeze the pretrained layers\n",
        "pretrained_model.trainable = False"
      ]
    },
    {
      "cell_type": "code",
      "execution_count": 6,
      "metadata": {
        "id": "GvfPxdKN8w73"
      },
      "outputs": [],
      "source": [
        "# Define the new classification head\n",
        "model = tf.keras.Sequential([\n",
        "    pretrained_model,\n",
        "    tf.keras.layers.GlobalAveragePooling2D(),\n",
        "    tf.keras.layers.Dense(num_classes, activation='softmax')\n",
        "])"
      ]
    },
    {
      "cell_type": "code",
      "execution_count": 8,
      "metadata": {
        "colab": {
          "base_uri": "https://localhost:8080/"
        },
        "id": "oo56SAHm8w73",
        "outputId": "50004a5e-340f-4d46-d266-1af7cba3fd5c"
      },
      "outputs": [
        {
          "output_type": "stream",
          "name": "stdout",
          "text": [
            "Epoch 1/40\n",
            "81/81 [==============================] - 98s 1s/step - loss: 0.1179 - accuracy: 0.9704 - val_loss: 0.2791 - val_accuracy: 0.9000\n",
            "Epoch 2/40\n",
            "81/81 [==============================] - 99s 1s/step - loss: 0.0974 - accuracy: 0.9798 - val_loss: 0.2923 - val_accuracy: 0.8982\n",
            "Epoch 3/40\n",
            "81/81 [==============================] - 96s 1s/step - loss: 0.0870 - accuracy: 0.9813 - val_loss: 0.2885 - val_accuracy: 0.9000\n",
            "Epoch 4/40\n",
            "81/81 [==============================] - 130s 2s/step - loss: 0.0758 - accuracy: 0.9872 - val_loss: 0.3028 - val_accuracy: 0.8964\n",
            "Epoch 5/40\n",
            "81/81 [==============================] - 96s 1s/step - loss: 0.0721 - accuracy: 0.9887 - val_loss: 0.2936 - val_accuracy: 0.8982\n",
            "Epoch 6/40\n",
            "81/81 [==============================] - 95s 1s/step - loss: 0.0604 - accuracy: 0.9930 - val_loss: 0.2835 - val_accuracy: 0.9018\n",
            "Epoch 7/40\n",
            "81/81 [==============================] - 97s 1s/step - loss: 0.0540 - accuracy: 0.9942 - val_loss: 0.2914 - val_accuracy: 0.8964\n",
            "Epoch 8/40\n",
            "81/81 [==============================] - 93s 1s/step - loss: 0.0477 - accuracy: 0.9946 - val_loss: 0.2914 - val_accuracy: 0.8982\n",
            "Epoch 9/40\n",
            "81/81 [==============================] - 107s 1s/step - loss: 0.0453 - accuracy: 0.9953 - val_loss: 0.3041 - val_accuracy: 0.9000\n",
            "Epoch 10/40\n",
            "81/81 [==============================] - 98s 1s/step - loss: 0.0410 - accuracy: 0.9965 - val_loss: 0.2917 - val_accuracy: 0.9018\n",
            "Epoch 11/40\n",
            "81/81 [==============================] - 97s 1s/step - loss: 0.0360 - accuracy: 0.9977 - val_loss: 0.2963 - val_accuracy: 0.9000\n",
            "Epoch 12/40\n",
            "81/81 [==============================] - 93s 1s/step - loss: 0.0336 - accuracy: 0.9984 - val_loss: 0.3001 - val_accuracy: 0.9055\n",
            "Epoch 13/40\n",
            "81/81 [==============================] - 95s 1s/step - loss: 0.0310 - accuracy: 0.9988 - val_loss: 0.2971 - val_accuracy: 0.8964\n",
            "Epoch 14/40\n",
            "81/81 [==============================] - 95s 1s/step - loss: 0.0284 - accuracy: 0.9981 - val_loss: 0.3002 - val_accuracy: 0.9018\n",
            "Epoch 15/40\n",
            "81/81 [==============================] - 105s 1s/step - loss: 0.0261 - accuracy: 0.9992 - val_loss: 0.3000 - val_accuracy: 0.8982\n",
            "Epoch 16/40\n",
            "81/81 [==============================] - 89s 1s/step - loss: 0.0249 - accuracy: 0.9992 - val_loss: 0.3032 - val_accuracy: 0.9000\n",
            "Epoch 17/40\n",
            "81/81 [==============================] - 89s 1s/step - loss: 0.0222 - accuracy: 0.9996 - val_loss: 0.3161 - val_accuracy: 0.8982\n",
            "Epoch 18/40\n",
            "81/81 [==============================] - 94s 1s/step - loss: 0.0208 - accuracy: 0.9996 - val_loss: 0.3122 - val_accuracy: 0.9018\n",
            "Epoch 19/40\n",
            "81/81 [==============================] - 93s 1s/step - loss: 0.0191 - accuracy: 1.0000 - val_loss: 0.3208 - val_accuracy: 0.9000\n",
            "Epoch 20/40\n",
            "81/81 [==============================] - 118s 1s/step - loss: 0.0181 - accuracy: 1.0000 - val_loss: 0.3279 - val_accuracy: 0.9000\n",
            "Epoch 21/40\n",
            "81/81 [==============================] - 89s 1s/step - loss: 0.0171 - accuracy: 1.0000 - val_loss: 0.3201 - val_accuracy: 0.9000\n",
            "Epoch 22/40\n",
            "81/81 [==============================] - 96s 1s/step - loss: 0.0159 - accuracy: 1.0000 - val_loss: 0.3165 - val_accuracy: 0.9000\n",
            "Epoch 23/40\n",
            "81/81 [==============================] - 90s 1s/step - loss: 0.0146 - accuracy: 1.0000 - val_loss: 0.3220 - val_accuracy: 0.8964\n",
            "Epoch 24/40\n",
            "81/81 [==============================] - 95s 1s/step - loss: 0.0140 - accuracy: 1.0000 - val_loss: 0.3265 - val_accuracy: 0.9000\n",
            "Epoch 25/40\n",
            "81/81 [==============================] - 106s 1s/step - loss: 0.0136 - accuracy: 1.0000 - val_loss: 0.3291 - val_accuracy: 0.9018\n",
            "Epoch 26/40\n",
            "81/81 [==============================] - 95s 1s/step - loss: 0.0126 - accuracy: 1.0000 - val_loss: 0.3257 - val_accuracy: 0.9018\n",
            "Epoch 27/40\n",
            "81/81 [==============================] - 94s 1s/step - loss: 0.0118 - accuracy: 1.0000 - val_loss: 0.3309 - val_accuracy: 0.9018\n",
            "Epoch 28/40\n",
            "81/81 [==============================] - 87s 1s/step - loss: 0.0112 - accuracy: 1.0000 - val_loss: 0.3340 - val_accuracy: 0.8964\n",
            "Epoch 29/40\n",
            "81/81 [==============================] - 88s 1s/step - loss: 0.0105 - accuracy: 1.0000 - val_loss: 0.3361 - val_accuracy: 0.9018\n",
            "Epoch 30/40\n",
            "81/81 [==============================] - 89s 1s/step - loss: 0.0098 - accuracy: 1.0000 - val_loss: 0.3409 - val_accuracy: 0.8964\n",
            "Epoch 31/40\n",
            "81/81 [==============================] - 105s 1s/step - loss: 0.0094 - accuracy: 1.0000 - val_loss: 0.3390 - val_accuracy: 0.8964\n",
            "Epoch 32/40\n",
            "81/81 [==============================] - 102s 1s/step - loss: 0.0090 - accuracy: 1.0000 - val_loss: 0.3413 - val_accuracy: 0.8982\n",
            "Epoch 33/40\n",
            "81/81 [==============================] - 98s 1s/step - loss: 0.0085 - accuracy: 1.0000 - val_loss: 0.3406 - val_accuracy: 0.9018\n",
            "Epoch 34/40\n",
            "81/81 [==============================] - 101s 1s/step - loss: 0.0083 - accuracy: 1.0000 - val_loss: 0.3459 - val_accuracy: 0.9036\n",
            "Epoch 35/40\n",
            "81/81 [==============================] - 101s 1s/step - loss: 0.0077 - accuracy: 1.0000 - val_loss: 0.3526 - val_accuracy: 0.8982\n",
            "Epoch 36/40\n",
            "81/81 [==============================] - 129s 2s/step - loss: 0.0073 - accuracy: 1.0000 - val_loss: 0.3514 - val_accuracy: 0.9036\n",
            "Epoch 37/40\n",
            "81/81 [==============================] - 100s 1s/step - loss: 0.0070 - accuracy: 1.0000 - val_loss: 0.3519 - val_accuracy: 0.9000\n",
            "Epoch 38/40\n",
            "81/81 [==============================] - 102s 1s/step - loss: 0.0066 - accuracy: 1.0000 - val_loss: 0.3590 - val_accuracy: 0.9018\n",
            "Epoch 39/40\n",
            "81/81 [==============================] - 101s 1s/step - loss: 0.0064 - accuracy: 1.0000 - val_loss: 0.3584 - val_accuracy: 0.9000\n",
            "Epoch 40/40\n",
            "81/81 [==============================] - 102s 1s/step - loss: 0.0061 - accuracy: 1.0000 - val_loss: 0.3639 - val_accuracy: 0.8982\n",
            "18/18 [==============================] - 17s 950ms/step - loss: 0.4012 - accuracy: 0.9038\n",
            "Test Accuracy: 0.9038112759590149\n"
          ]
        }
      ],
      "source": [
        "# Compile the model\n",
        "model.compile(optimizer='adam', loss='sparse_categorical_crossentropy', metrics=['accuracy'])\n",
        "\n",
        "# Train the model\n",
        "history = model.fit(train_dataset, epochs=10, validation_data=val_dataset)\n",
        "\n",
        "# Evaluate the model on the test set\n",
        "test_loss, test_acc = model.evaluate(test_dataset)\n",
        "print(\"Test Accuracy:\", test_acc)"
      ]
    }
  ],
  "metadata": {
    "kernelspec": {
      "display_name": ".venv",
      "language": "python",
      "name": "python3"
    },
    "language_info": {
      "codemirror_mode": {
        "name": "ipython",
        "version": 3
      },
      "file_extension": ".py",
      "mimetype": "text/x-python",
      "name": "python",
      "nbconvert_exporter": "python",
      "pygments_lexer": "ipython3",
      "version": "3.11.8"
    },
    "colab": {
      "provenance": []
    },
    "widgets": {
      "application/vnd.jupyter.widget-state+json": {
        "f59b40bf598c4c3d8cf807d119ad9dad": {
          "model_module": "@jupyter-widgets/controls",
          "model_name": "HBoxModel",
          "model_module_version": "1.5.0",
          "state": {
            "_dom_classes": [],
            "_model_module": "@jupyter-widgets/controls",
            "_model_module_version": "1.5.0",
            "_model_name": "HBoxModel",
            "_view_count": null,
            "_view_module": "@jupyter-widgets/controls",
            "_view_module_version": "1.5.0",
            "_view_name": "HBoxView",
            "box_style": "",
            "children": [
              "IPY_MODEL_70710d0cf43e4739aecf745d5711b498",
              "IPY_MODEL_5e6cc997045b45a8b24c09bbd2e03788",
              "IPY_MODEL_004a3ef0d3ec4684b3560b727f9665b6"
            ],
            "layout": "IPY_MODEL_a86094fecff94ab4af7165805a11aad7"
          }
        },
        "70710d0cf43e4739aecf745d5711b498": {
          "model_module": "@jupyter-widgets/controls",
          "model_name": "HTMLModel",
          "model_module_version": "1.5.0",
          "state": {
            "_dom_classes": [],
            "_model_module": "@jupyter-widgets/controls",
            "_model_module_version": "1.5.0",
            "_model_name": "HTMLModel",
            "_view_count": null,
            "_view_module": "@jupyter-widgets/controls",
            "_view_module_version": "1.5.0",
            "_view_name": "HTMLView",
            "description": "",
            "description_tooltip": null,
            "layout": "IPY_MODEL_770e99448ef5458f9a419a988b9b3e24",
            "placeholder": "​",
            "style": "IPY_MODEL_cb878d314889411590915d34291a3a03",
            "value": "Dl Completed...: 100%"
          }
        },
        "5e6cc997045b45a8b24c09bbd2e03788": {
          "model_module": "@jupyter-widgets/controls",
          "model_name": "FloatProgressModel",
          "model_module_version": "1.5.0",
          "state": {
            "_dom_classes": [],
            "_model_module": "@jupyter-widgets/controls",
            "_model_module_version": "1.5.0",
            "_model_name": "FloatProgressModel",
            "_view_count": null,
            "_view_module": "@jupyter-widgets/controls",
            "_view_module_version": "1.5.0",
            "_view_name": "ProgressView",
            "bar_style": "success",
            "description": "",
            "description_tooltip": null,
            "layout": "IPY_MODEL_f0ad80c26e7d4b73a72a880c6a8cdb0e",
            "max": 5,
            "min": 0,
            "orientation": "horizontal",
            "style": "IPY_MODEL_fdab614395c245dbb9c848ffe8280d5a",
            "value": 5
          }
        },
        "004a3ef0d3ec4684b3560b727f9665b6": {
          "model_module": "@jupyter-widgets/controls",
          "model_name": "HTMLModel",
          "model_module_version": "1.5.0",
          "state": {
            "_dom_classes": [],
            "_model_module": "@jupyter-widgets/controls",
            "_model_module_version": "1.5.0",
            "_model_name": "HTMLModel",
            "_view_count": null,
            "_view_module": "@jupyter-widgets/controls",
            "_view_module_version": "1.5.0",
            "_view_name": "HTMLView",
            "description": "",
            "description_tooltip": null,
            "layout": "IPY_MODEL_0b95fae53b3c44d187ef85e546b5f84f",
            "placeholder": "​",
            "style": "IPY_MODEL_94de0b73e1f349f2ac3fa8c6621a238e",
            "value": " 5/5 [00:03&lt;00:00,  1.45 file/s]"
          }
        },
        "a86094fecff94ab4af7165805a11aad7": {
          "model_module": "@jupyter-widgets/base",
          "model_name": "LayoutModel",
          "model_module_version": "1.2.0",
          "state": {
            "_model_module": "@jupyter-widgets/base",
            "_model_module_version": "1.2.0",
            "_model_name": "LayoutModel",
            "_view_count": null,
            "_view_module": "@jupyter-widgets/base",
            "_view_module_version": "1.2.0",
            "_view_name": "LayoutView",
            "align_content": null,
            "align_items": null,
            "align_self": null,
            "border": null,
            "bottom": null,
            "display": null,
            "flex": null,
            "flex_flow": null,
            "grid_area": null,
            "grid_auto_columns": null,
            "grid_auto_flow": null,
            "grid_auto_rows": null,
            "grid_column": null,
            "grid_gap": null,
            "grid_row": null,
            "grid_template_areas": null,
            "grid_template_columns": null,
            "grid_template_rows": null,
            "height": null,
            "justify_content": null,
            "justify_items": null,
            "left": null,
            "margin": null,
            "max_height": null,
            "max_width": null,
            "min_height": null,
            "min_width": null,
            "object_fit": null,
            "object_position": null,
            "order": null,
            "overflow": null,
            "overflow_x": null,
            "overflow_y": null,
            "padding": null,
            "right": null,
            "top": null,
            "visibility": null,
            "width": null
          }
        },
        "770e99448ef5458f9a419a988b9b3e24": {
          "model_module": "@jupyter-widgets/base",
          "model_name": "LayoutModel",
          "model_module_version": "1.2.0",
          "state": {
            "_model_module": "@jupyter-widgets/base",
            "_model_module_version": "1.2.0",
            "_model_name": "LayoutModel",
            "_view_count": null,
            "_view_module": "@jupyter-widgets/base",
            "_view_module_version": "1.2.0",
            "_view_name": "LayoutView",
            "align_content": null,
            "align_items": null,
            "align_self": null,
            "border": null,
            "bottom": null,
            "display": null,
            "flex": null,
            "flex_flow": null,
            "grid_area": null,
            "grid_auto_columns": null,
            "grid_auto_flow": null,
            "grid_auto_rows": null,
            "grid_column": null,
            "grid_gap": null,
            "grid_row": null,
            "grid_template_areas": null,
            "grid_template_columns": null,
            "grid_template_rows": null,
            "height": null,
            "justify_content": null,
            "justify_items": null,
            "left": null,
            "margin": null,
            "max_height": null,
            "max_width": null,
            "min_height": null,
            "min_width": null,
            "object_fit": null,
            "object_position": null,
            "order": null,
            "overflow": null,
            "overflow_x": null,
            "overflow_y": null,
            "padding": null,
            "right": null,
            "top": null,
            "visibility": null,
            "width": null
          }
        },
        "cb878d314889411590915d34291a3a03": {
          "model_module": "@jupyter-widgets/controls",
          "model_name": "DescriptionStyleModel",
          "model_module_version": "1.5.0",
          "state": {
            "_model_module": "@jupyter-widgets/controls",
            "_model_module_version": "1.5.0",
            "_model_name": "DescriptionStyleModel",
            "_view_count": null,
            "_view_module": "@jupyter-widgets/base",
            "_view_module_version": "1.2.0",
            "_view_name": "StyleView",
            "description_width": ""
          }
        },
        "f0ad80c26e7d4b73a72a880c6a8cdb0e": {
          "model_module": "@jupyter-widgets/base",
          "model_name": "LayoutModel",
          "model_module_version": "1.2.0",
          "state": {
            "_model_module": "@jupyter-widgets/base",
            "_model_module_version": "1.2.0",
            "_model_name": "LayoutModel",
            "_view_count": null,
            "_view_module": "@jupyter-widgets/base",
            "_view_module_version": "1.2.0",
            "_view_name": "LayoutView",
            "align_content": null,
            "align_items": null,
            "align_self": null,
            "border": null,
            "bottom": null,
            "display": null,
            "flex": null,
            "flex_flow": null,
            "grid_area": null,
            "grid_auto_columns": null,
            "grid_auto_flow": null,
            "grid_auto_rows": null,
            "grid_column": null,
            "grid_gap": null,
            "grid_row": null,
            "grid_template_areas": null,
            "grid_template_columns": null,
            "grid_template_rows": null,
            "height": null,
            "justify_content": null,
            "justify_items": null,
            "left": null,
            "margin": null,
            "max_height": null,
            "max_width": null,
            "min_height": null,
            "min_width": null,
            "object_fit": null,
            "object_position": null,
            "order": null,
            "overflow": null,
            "overflow_x": null,
            "overflow_y": null,
            "padding": null,
            "right": null,
            "top": null,
            "visibility": null,
            "width": null
          }
        },
        "fdab614395c245dbb9c848ffe8280d5a": {
          "model_module": "@jupyter-widgets/controls",
          "model_name": "ProgressStyleModel",
          "model_module_version": "1.5.0",
          "state": {
            "_model_module": "@jupyter-widgets/controls",
            "_model_module_version": "1.5.0",
            "_model_name": "ProgressStyleModel",
            "_view_count": null,
            "_view_module": "@jupyter-widgets/base",
            "_view_module_version": "1.2.0",
            "_view_name": "StyleView",
            "bar_color": null,
            "description_width": ""
          }
        },
        "0b95fae53b3c44d187ef85e546b5f84f": {
          "model_module": "@jupyter-widgets/base",
          "model_name": "LayoutModel",
          "model_module_version": "1.2.0",
          "state": {
            "_model_module": "@jupyter-widgets/base",
            "_model_module_version": "1.2.0",
            "_model_name": "LayoutModel",
            "_view_count": null,
            "_view_module": "@jupyter-widgets/base",
            "_view_module_version": "1.2.0",
            "_view_name": "LayoutView",
            "align_content": null,
            "align_items": null,
            "align_self": null,
            "border": null,
            "bottom": null,
            "display": null,
            "flex": null,
            "flex_flow": null,
            "grid_area": null,
            "grid_auto_columns": null,
            "grid_auto_flow": null,
            "grid_auto_rows": null,
            "grid_column": null,
            "grid_gap": null,
            "grid_row": null,
            "grid_template_areas": null,
            "grid_template_columns": null,
            "grid_template_rows": null,
            "height": null,
            "justify_content": null,
            "justify_items": null,
            "left": null,
            "margin": null,
            "max_height": null,
            "max_width": null,
            "min_height": null,
            "min_width": null,
            "object_fit": null,
            "object_position": null,
            "order": null,
            "overflow": null,
            "overflow_x": null,
            "overflow_y": null,
            "padding": null,
            "right": null,
            "top": null,
            "visibility": null,
            "width": null
          }
        },
        "94de0b73e1f349f2ac3fa8c6621a238e": {
          "model_module": "@jupyter-widgets/controls",
          "model_name": "DescriptionStyleModel",
          "model_module_version": "1.5.0",
          "state": {
            "_model_module": "@jupyter-widgets/controls",
            "_model_module_version": "1.5.0",
            "_model_name": "DescriptionStyleModel",
            "_view_count": null,
            "_view_module": "@jupyter-widgets/base",
            "_view_module_version": "1.2.0",
            "_view_name": "StyleView",
            "description_width": ""
          }
        }
      }
    }
  },
  "nbformat": 4,
  "nbformat_minor": 0
}