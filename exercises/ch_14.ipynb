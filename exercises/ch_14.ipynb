{
 "cells": [
  {
   "cell_type": "markdown",
   "metadata": {},
   "source": [
    "## 9. High Accuracy CNN for MNIST\n",
    "_Exercise: Build your own CNN from scratch and try to achieve the highest possible accuracy on MNIST._"
   ]
  },
  {
   "cell_type": "markdown",
   "metadata": {},
   "source": [
    "The following model uses \n",
    "\n",
    "- 2 convolutional layers, \n",
    "\n",
    "- followed by 1 pooling layer, \n",
    "\n",
    "- then dropout 25%, then a dense layer, \n",
    "\n",
    "- another dropout layer but with 50% dropout, \n",
    "\n",
    "- and finally the output layer. \n",
    "\n",
    "It reaches about 99.2% accuracy on the test set. This places this model roughly in the top 20% in the [MNIST Kaggle competition](https://www.kaggle.com/c/digit-recognizer/) (if we ignore the models with an accuracy greater than 99.79% which were most likely trained on the test set, as explained by Chris Deotte in [this post](https://www.kaggle.com/c/digit-recognizer/discussion/61480)). \n",
    "\n",
    "Can you do better? \n",
    "\n",
    "To reach 99.5 to 99.7% accuracy on the test set, you need to add \n",
    "\n",
    "- image augmentation, \n",
    "\n",
    "- batch norm, use a learning schedule such as 1-cycle, \n",
    "\n",
    "- and possibly create an ensemble."
   ]
  },
  {
   "cell_type": "code",
   "execution_count": null,
   "metadata": {},
   "outputs": [],
   "source": []
  }
 ],
 "metadata": {
  "language_info": {
   "name": "python"
  }
 },
 "nbformat": 4,
 "nbformat_minor": 2
}
